{
 "cells": [
  {
   "cell_type": "markdown",
   "metadata": {},
   "source": [
    "# Youtube comment analysis using PrimeText"
   ]
  },
  {
   "cell_type": "code",
   "execution_count": 28,
   "metadata": {
    "collapsed": false
   },
   "outputs": [
    {
     "name": "stdout",
     "output_type": "stream",
     "text": [
      "Using matplotlib backend: MacOSX\n"
     ]
    }
   ],
   "source": [
    "%matplotlib"
   ]
  },
  {
   "cell_type": "code",
   "execution_count": 2,
   "metadata": {
    "collapsed": false
   },
   "outputs": [],
   "source": [
    "import sys\n",
    "import pandas as pa\n",
    "import numpy as np\n",
    "from primetext import primetext\n",
    "import matplotlib.pyplot as plt\n",
    "\n",
    "from nltk.stem.lancaster import LancasterStemmer\n",
    "from autocorrect import spell\n",
    "st = LancasterStemmer()  \n",
    "\n"
   ]
  },
  {
   "cell_type": "code",
   "execution_count": 3,
   "metadata": {
    "collapsed": false
   },
   "outputs": [],
   "source": [
    "pt = primetext()\n",
    "ytData = pa.read_csv(\"utubelabled.csv\",encoding ='ISO-8859-1')\n",
    "comments = ytData['comment']"
   ]
  },
  {
   "cell_type": "code",
   "execution_count": 4,
   "metadata": {
    "collapsed": false
   },
   "outputs": [],
   "source": [
    "comments = comments.str.replace('ï»¿','')"
   ]
  },
  {
   "cell_type": "code",
   "execution_count": 5,
   "metadata": {
    "collapsed": true
   },
   "outputs": [],
   "source": [
    "def cleanData(records,labels):\n",
    "    output = []\n",
    "    outputLabels = []\n",
    "\n",
    "    recordsChecked = 0\n",
    "    recordsToCheck = len(records)\n",
    "    for index,sentence in enumerate(records):\n",
    "        recordsChecked += 1\n",
    "        sys.stdout.write(\"\\rRecords cleaned : %i / %i\" % (recordsChecked,recordsToCheck))\n",
    "        cleanSentence = ''\n",
    "        if len(sentence) < 200:\n",
    "            words = sentence.split(' ')\n",
    "            for word in words:\n",
    "                if len(word) < 12:\n",
    "                    if word.isalpha():\n",
    "                        cleanSentence += st.stem(spell(word.lower())) + ' '\n",
    "        if cleanSentence:\n",
    "            output.append(cleanSentence.strip())  \n",
    "            outputLabels.append(labels[index])\n",
    "    sys.stdout.write(\"\\n\")\n",
    "    sys.stdout.flush()\n",
    "    return output,outputLabels"
   ]
  },
  {
   "cell_type": "code",
   "execution_count": 6,
   "metadata": {
    "collapsed": false
   },
   "outputs": [
    {
     "name": "stdout",
     "output_type": "stream",
     "text": [
      "Records cleaned : 3936 / 3936\n"
     ]
    }
   ],
   "source": [
    "[cleanedRecords, cleanedLabels] = cleanData(comments,ytData['troll'])\n"
   ]
  },
  {
   "cell_type": "code",
   "execution_count": 7,
   "metadata": {
    "collapsed": false
   },
   "outputs": [
    {
     "name": "stdout",
     "output_type": "stream",
     "text": [
      "Records checked : 3468\n",
      "Indexed dictionary\n",
      "Indexed comments\n"
     ]
    }
   ],
   "source": [
    "pt.index(cleanedRecords)"
   ]
  },
  {
   "cell_type": "code",
   "execution_count": 8,
   "metadata": {
    "collapsed": false
   },
   "outputs": [
    {
     "data": {
      "text/plain": [
       "<matplotlib.axes._subplots.AxesSubplot at 0x114b08550>"
      ]
     },
     "execution_count": 8,
     "metadata": {},
     "output_type": "execute_result"
    },
    {
     "data": {
      "image/png": "[encoded data removed]",
      "text/plain": [
       "<matplotlib.figure.Figure at 0x114432a58>"
      ]
     },
     "metadata": {},
     "output_type": "display_data"
    }
   ],
   "source": [
    "keyText = []\n",
    "keyCount = []\n",
    "for key, value in pt.indexedDictionary.items():\n",
    "    c = pt.countInRecords([key])\n",
    "    keyText.append(key)\n",
    "    keyCount.append(c)\n",
    "    \n",
    "s1 = pa.Series(keyCount,index=keyText)\n",
    "\n",
    "sortedS1  = s1.sort_values(ascending= False)[:50]\n",
    "\n",
    "sortedS1.plot.bar()"
   ]
  },
  {
   "cell_type": "code",
   "execution_count": 9,
   "metadata": {
    "collapsed": false
   },
   "outputs": [],
   "source": [
    "df = pa.DataFrame(index=sortedS1.index, columns=sortedS1.index)\n",
    "df = df.fillna(0)"
   ]
  },
  {
   "cell_type": "code",
   "execution_count": 10,
   "metadata": {
    "collapsed": false
   },
   "outputs": [
    {
     "name": "stdout",
     "output_type": "stream",
     "text": [
      "Cols done : 50\n"
     ]
    }
   ],
   "source": [
    "names = sortedS1.index\n",
    "colsdone = 0\n",
    "for col in names:\n",
    "    colsdone += 1\n",
    "    sys.stdout.write(\"\\rCols done : %i\" % colsdone)\n",
    "    for row in names:\n",
    "        df[col][row] = pt.countInRecords([col,row])\n",
    "sys.stdout.write(\"\\n\")\n",
    "sys.stdout.flush()"
   ]
  },
  {
   "cell_type": "code",
   "execution_count": 11,
   "metadata": {
    "collapsed": false
   },
   "outputs": [
    {
     "data": {
      "image/png": "[encoded data removed]",
      "text/plain": [
       "<matplotlib.figure.Figure at 0x1146fc390>"
      ]
     },
     "metadata": {},
     "output_type": "display_data"
    }
   ],
   "source": [
    "imgplot = plt.imshow(df,interpolation=\"nearest\")\n",
    "plt.xticks( range(len(names)), names, rotation=90 )\n",
    "plt.yticks( range(len(names)), names, rotation=0 )\n",
    "plt.colorbar()\n",
    "plt.show()"
   ]
  },
  {
   "cell_type": "code",
   "execution_count": 12,
   "metadata": {
    "collapsed": false
   },
   "outputs": [
    {
     "data": {
      "text/plain": [
       "346.0"
      ]
     },
     "execution_count": 12,
     "metadata": {},
     "output_type": "execute_result"
    }
   ],
   "source": [
    "myLabels = pa.Series(cleanedLabels)\n",
    "myLabels.sum()"
   ]
  },
  {
   "cell_type": "code",
   "execution_count": 13,
   "metadata": {
    "collapsed": false
   },
   "outputs": [
    {
     "data": {
      "text/plain": [
       "(0.90020190366310937, 0.099798096336890685)"
      ]
     },
     "execution_count": 13,
     "metadata": {},
     "output_type": "execute_result"
    }
   ],
   "source": [
    "totalComments = myLabels.count()\n",
    "totalTrollComments = myLabels.sum()\n",
    "trollWeight = (totalComments-totalTrollComments)/totalComments\n",
    "nonTrollWeight = totalTrollComments/totalComments\n",
    "\n",
    "trollWeight, nonTrollWeight"
   ]
  },
  {
   "cell_type": "code",
   "execution_count": 14,
   "metadata": {
    "collapsed": true
   },
   "outputs": [],
   "source": [
    "# for each troll comment add the troll weight to each word\n",
    "# for each non troll comment minus the nonTrollWeight from each word"
   ]
  },
  {
   "cell_type": "code",
   "execution_count": 15,
   "metadata": {
    "collapsed": false
   },
   "outputs": [
    {
     "data": {
      "text/plain": [
       "3153"
      ]
     },
     "execution_count": 15,
     "metadata": {},
     "output_type": "execute_result"
    }
   ],
   "source": [
    "len(pt.cleanedDictionary)"
   ]
  },
  {
   "cell_type": "code",
   "execution_count": 16,
   "metadata": {
    "collapsed": false
   },
   "outputs": [
    {
     "data": {
      "text/plain": [
       "61.0"
      ]
     },
     "execution_count": 16,
     "metadata": {},
     "output_type": "execute_result"
    }
   ],
   "source": [
    "totalFoundTrolling = myLabels[pt.find(['the'])].sum()\n",
    "totalFoundTrolling"
   ]
  },
  {
   "cell_type": "code",
   "execution_count": 17,
   "metadata": {
    "collapsed": false
   },
   "outputs": [
    {
     "data": {
      "text/plain": [
       "895.0"
      ]
     },
     "execution_count": 17,
     "metadata": {},
     "output_type": "execute_result"
    }
   ],
   "source": [
    "totalFoundNotTrolling = pt.find(['the']).sum() - totalFoundTrolling\n",
    "totalFoundNotTrolling"
   ]
  },
  {
   "cell_type": "code",
   "execution_count": 18,
   "metadata": {
    "collapsed": false
   },
   "outputs": [
    {
     "data": {
      "text/plain": [
       "-34.406980098067493"
      ]
     },
     "execution_count": 18,
     "metadata": {},
     "output_type": "execute_result"
    }
   ],
   "source": [
    "trollScore = (totalFoundTrolling * trollWeight) - (totalFoundNotTrolling * nonTrollWeight)\n",
    "trollScore"
   ]
  },
  {
   "cell_type": "code",
   "execution_count": 19,
   "metadata": {
    "collapsed": true
   },
   "outputs": [],
   "source": [
    "trollScores = []\n",
    "for word in pt.cleanedDictionary:\n",
    "    totalFoundTrolling = myLabels[pt.find([word])].sum()\n",
    "    totalFoundNotTrolling = pt.find([word]).sum() - totalFoundTrolling\n",
    "    trollScore = (totalFoundTrolling * trollWeight) - (totalFoundNotTrolling * nonTrollWeight)\n",
    "    trollScores.append(trollScore)\n"
   ]
  },
  {
   "cell_type": "code",
   "execution_count": 20,
   "metadata": {
    "collapsed": false
   },
   "outputs": [
    {
     "name": "stdout",
     "output_type": "stream",
     "text": [
      "the       -34.406980\n",
      "i         -22.377848\n",
      "to        -17.389963\n",
      "it        -13.837612\n",
      "lov       -12.366888\n",
      "for       -12.248918\n",
      "but       -12.069513\n",
      "and       -11.206519\n",
      "not        -9.466686\n",
      "was        -7.753966\n",
      "real       -7.376983\n",
      "al         -6.566484\n",
      "cut        -6.287280\n",
      "so         -5.945486\n",
      "know       -5.884050\n",
      "on         -5.733776\n",
      "happy      -5.688491\n",
      "good       -5.684453\n",
      "get        -5.572541\n",
      "my         -5.562446\n",
      "jam        -5.387078\n",
      "when       -5.277185\n",
      "do         -4.786271\n",
      "he         -4.743871\n",
      "best       -4.690511\n",
      "in         -4.328526\n",
      "pap        -4.191520\n",
      "wil        -4.083646\n",
      "me         -3.880012\n",
      "we         -3.782232\n",
      "             ...    \n",
      "wher       -2.393135\n",
      "very       -2.393135\n",
      "nee        -2.389097\n",
      "pretty     -2.295356\n",
      "wait       -2.193539\n",
      "thing      -2.193539\n",
      "com        -2.187482\n",
      "arian      -2.095760\n",
      "break      -2.095760\n",
      "dog        -2.095760\n",
      "find       -2.095760\n",
      "keep       -2.093741\n",
      "org        -2.093741\n",
      "that       -2.031151\n",
      "our        -1.995962\n",
      "work       -1.995962\n",
      "trudeau    -1.995962\n",
      "respect    -1.995962\n",
      "adam       -1.995962\n",
      "sing       -1.995962\n",
      "someon     -1.993943\n",
      "from       -1.979810\n",
      "his        -1.973753\n",
      "last       -1.896164\n",
      "must       -1.896164\n",
      "xd         -1.896164\n",
      "feel       -1.894145\n",
      "nic        -1.894145\n",
      "been       -1.892126\n",
      "think      -1.886069\n",
      "dtype: float64\n"
     ]
    },
    {
     "data": {
      "image/png": "[encoded data removed]",
      "text/plain": [
       "<matplotlib.figure.Figure at 0x114677518>"
      ]
     },
     "metadata": {},
     "output_type": "display_data"
    }
   ],
   "source": [
    "s2 = pa.Series(trollScores,index= pt.cleanedDictionary)\n",
    "\n",
    "sortedPos  = s2.sort_values(ascending= True)[:100]\n",
    "\n",
    "sortedPos.plot.bar()\n",
    "print(sortedPos)"
   ]
  },
  {
   "cell_type": "code",
   "execution_count": 29,
   "metadata": {
    "collapsed": false
   },
   "outputs": [
    {
     "data": {
      "text/plain": [
       "<matplotlib.axes._subplots.AxesSubplot at 0x114aa79e8>"
      ]
     },
     "execution_count": 29,
     "metadata": {},
     "output_type": "execute_result"
    }
   ],
   "source": [
    "s2 = pa.Series(trollScores,index= pt.cleanedDictionary)\n",
    "\n",
    "sortedNeg  = s2.sort_values(ascending= False)[:100]\n",
    "\n",
    "sortedNeg.plot.bar()"
   ]
  },
  {
   "cell_type": "code",
   "execution_count": null,
   "metadata": {
    "collapsed": false
   },
   "outputs": [],
   "source": []
  },
  {
   "cell_type": "code",
   "execution_count": 22,
   "metadata": {
    "collapsed": false
   },
   "outputs": [],
   "source": [
    "def calTrollScore(comment):\n",
    "    words = str(comment).split(' ')\n",
    "    score = 0\n",
    "    for word in words:\n",
    "        if word in s2:\n",
    "            score += s2[word]\n",
    "    return score"
   ]
  },
  {
   "cell_type": "code",
   "execution_count": 23,
   "metadata": {
    "collapsed": false
   },
   "outputs": [
    {
     "name": "stdout",
     "output_type": "stream",
     "text": [
      "who els think act a gre sing 12.405537929\n",
      "what a lucky got celebr birthday on concert with bil of cold fan 8.98240553793\n",
      "lov it -26.2044995673\n",
      "no am ev knew who cord was sev year ago -7.27199307759\n",
      "my birthday was the as wel and we both support west ham -70.7755985001\n",
      "org im cry -3.28526103259\n",
      "i do feel cold ar extrem over howev thi was would lov to see mor stuff lik thi in the -87.7213729449\n",
      "whoev post process that suck al the spirit of the perform but hey sound gre on yo -96.7923276608\n",
      "i do lov u we r wait for u her in kiss -46.8543409288\n",
      "the best duo i lov thi -67.9186616671\n"
     ]
    }
   ],
   "source": [
    "for i in range(10):\n",
    "    print(cleanedRecords[i],calTrollScore(cleanedRecords[i]))"
   ]
  },
  {
   "cell_type": "code",
   "execution_count": 24,
   "metadata": {
    "collapsed": true
   },
   "outputs": [],
   "source": [
    "def predictTroll(comment,theta):\n",
    "    return calTrollScore(comment) > theta[0]\n",
    "\n",
    "def costTrollPredict(theta):\n",
    "    result = list(map(lambda c:predictTroll(c,theta),cleanedRecords))"
   ]
  },
  {
   "cell_type": "code",
   "execution_count": null,
   "metadata": {
    "collapsed": false
   },
   "outputs": [],
   "source": [
    "\n",
    "    "
   ]
  },
  {
   "cell_type": "code",
   "execution_count": 25,
   "metadata": {
    "collapsed": false
   },
   "outputs": [],
   "source": [
    "pred = costTrollPredict([30])\n",
    "trueVal = list(map(lambda v: v==1.0,cleanedLabels))"
   ]
  },
  {
   "cell_type": "code",
   "execution_count": 26,
   "metadata": {
    "collapsed": true
   },
   "outputs": [],
   "source": [
    "from sklearn.metrics import f1_score"
   ]
  },
  {
   "cell_type": "code",
   "execution_count": 27,
   "metadata": {
    "collapsed": false
   },
   "outputs": [
    {
     "ename": "ValueError",
     "evalue": "Expected array-like (array or non-string sequence), got None",
     "output_type": "error",
     "traceback": [
      "\u001b[0;31m---------------------------------------------------------------------------\u001b[0m",
      "\u001b[0;31mValueError\u001b[0m                                Traceback (most recent call last)",
      "\u001b[0;32m<ipython-input-27-ae7df214b052>\u001b[0m in \u001b[0;36m<module>\u001b[0;34m()\u001b[0m\n\u001b[0;32m----> 1\u001b[0;31m \u001b[0mf1_score\u001b[0m\u001b[0;34m(\u001b[0m\u001b[0mtrueVal\u001b[0m\u001b[0;34m,\u001b[0m \u001b[0mpred\u001b[0m\u001b[0;34m)\u001b[0m\u001b[0;34m\u001b[0m\u001b[0m\n\u001b[0m",
      "\u001b[0;32m/Users/zackakil/anaconda/envs/dev/lib/python3.5/site-packages/sklearn/metrics/classification.py\u001b[0m in \u001b[0;36mf1_score\u001b[0;34m(y_true, y_pred, labels, pos_label, average, sample_weight)\u001b[0m\n\u001b[1;32m    637\u001b[0m     return fbeta_score(y_true, y_pred, 1, labels=labels,\n\u001b[1;32m    638\u001b[0m                        \u001b[0mpos_label\u001b[0m\u001b[0;34m=\u001b[0m\u001b[0mpos_label\u001b[0m\u001b[0;34m,\u001b[0m \u001b[0maverage\u001b[0m\u001b[0;34m=\u001b[0m\u001b[0maverage\u001b[0m\u001b[0;34m,\u001b[0m\u001b[0;34m\u001b[0m\u001b[0m\n\u001b[0;32m--> 639\u001b[0;31m                        sample_weight=sample_weight)\n\u001b[0m\u001b[1;32m    640\u001b[0m \u001b[0;34m\u001b[0m\u001b[0m\n\u001b[1;32m    641\u001b[0m \u001b[0;34m\u001b[0m\u001b[0m\n",
      "\u001b[0;32m/Users/zackakil/anaconda/envs/dev/lib/python3.5/site-packages/sklearn/metrics/classification.py\u001b[0m in \u001b[0;36mfbeta_score\u001b[0;34m(y_true, y_pred, beta, labels, pos_label, average, sample_weight)\u001b[0m\n\u001b[1;32m    754\u001b[0m                                                  \u001b[0maverage\u001b[0m\u001b[0;34m=\u001b[0m\u001b[0maverage\u001b[0m\u001b[0;34m,\u001b[0m\u001b[0;34m\u001b[0m\u001b[0m\n\u001b[1;32m    755\u001b[0m                                                  \u001b[0mwarn_for\u001b[0m\u001b[0;34m=\u001b[0m\u001b[0;34m(\u001b[0m\u001b[0;34m'f-score'\u001b[0m\u001b[0;34m,\u001b[0m\u001b[0;34m)\u001b[0m\u001b[0;34m,\u001b[0m\u001b[0;34m\u001b[0m\u001b[0m\n\u001b[0;32m--> 756\u001b[0;31m                                                  sample_weight=sample_weight)\n\u001b[0m\u001b[1;32m    757\u001b[0m     \u001b[0;32mreturn\u001b[0m \u001b[0mf\u001b[0m\u001b[0;34m\u001b[0m\u001b[0m\n\u001b[1;32m    758\u001b[0m \u001b[0;34m\u001b[0m\u001b[0m\n",
      "\u001b[0;32m/Users/zackakil/anaconda/envs/dev/lib/python3.5/site-packages/sklearn/metrics/classification.py\u001b[0m in \u001b[0;36mprecision_recall_fscore_support\u001b[0;34m(y_true, y_pred, beta, labels, pos_label, average, warn_for, sample_weight)\u001b[0m\n\u001b[1;32m    954\u001b[0m         \u001b[0;32mraise\u001b[0m \u001b[0mValueError\u001b[0m\u001b[0;34m(\u001b[0m\u001b[0;34m\"beta should be >0 in the F-beta score\"\u001b[0m\u001b[0;34m)\u001b[0m\u001b[0;34m\u001b[0m\u001b[0m\n\u001b[1;32m    955\u001b[0m \u001b[0;34m\u001b[0m\u001b[0m\n\u001b[0;32m--> 956\u001b[0;31m     \u001b[0my_type\u001b[0m\u001b[0;34m,\u001b[0m \u001b[0my_true\u001b[0m\u001b[0;34m,\u001b[0m \u001b[0my_pred\u001b[0m \u001b[0;34m=\u001b[0m \u001b[0m_check_targets\u001b[0m\u001b[0;34m(\u001b[0m\u001b[0my_true\u001b[0m\u001b[0;34m,\u001b[0m \u001b[0my_pred\u001b[0m\u001b[0;34m)\u001b[0m\u001b[0;34m\u001b[0m\u001b[0m\n\u001b[0m\u001b[1;32m    957\u001b[0m     \u001b[0mpresent_labels\u001b[0m \u001b[0;34m=\u001b[0m \u001b[0munique_labels\u001b[0m\u001b[0;34m(\u001b[0m\u001b[0my_true\u001b[0m\u001b[0;34m,\u001b[0m \u001b[0my_pred\u001b[0m\u001b[0;34m)\u001b[0m\u001b[0;34m\u001b[0m\u001b[0m\n\u001b[1;32m    958\u001b[0m \u001b[0;34m\u001b[0m\u001b[0m\n",
      "\u001b[0;32m/Users/zackakil/anaconda/envs/dev/lib/python3.5/site-packages/sklearn/metrics/classification.py\u001b[0m in \u001b[0;36m_check_targets\u001b[0;34m(y_true, y_pred)\u001b[0m\n\u001b[1;32m     72\u001b[0m     \u001b[0mcheck_consistent_length\u001b[0m\u001b[0;34m(\u001b[0m\u001b[0my_true\u001b[0m\u001b[0;34m,\u001b[0m \u001b[0my_pred\u001b[0m\u001b[0;34m)\u001b[0m\u001b[0;34m\u001b[0m\u001b[0m\n\u001b[1;32m     73\u001b[0m     \u001b[0mtype_true\u001b[0m \u001b[0;34m=\u001b[0m \u001b[0mtype_of_target\u001b[0m\u001b[0;34m(\u001b[0m\u001b[0my_true\u001b[0m\u001b[0;34m)\u001b[0m\u001b[0;34m\u001b[0m\u001b[0m\n\u001b[0;32m---> 74\u001b[0;31m     \u001b[0mtype_pred\u001b[0m \u001b[0;34m=\u001b[0m \u001b[0mtype_of_target\u001b[0m\u001b[0;34m(\u001b[0m\u001b[0my_pred\u001b[0m\u001b[0;34m)\u001b[0m\u001b[0;34m\u001b[0m\u001b[0m\n\u001b[0m\u001b[1;32m     75\u001b[0m \u001b[0;34m\u001b[0m\u001b[0m\n\u001b[1;32m     76\u001b[0m     \u001b[0my_type\u001b[0m \u001b[0;34m=\u001b[0m \u001b[0mset\u001b[0m\u001b[0;34m(\u001b[0m\u001b[0;34m[\u001b[0m\u001b[0mtype_true\u001b[0m\u001b[0;34m,\u001b[0m \u001b[0mtype_pred\u001b[0m\u001b[0;34m]\u001b[0m\u001b[0;34m)\u001b[0m\u001b[0;34m\u001b[0m\u001b[0m\n",
      "\u001b[0;32m/Users/zackakil/anaconda/envs/dev/lib/python3.5/site-packages/sklearn/utils/multiclass.py\u001b[0m in \u001b[0;36mtype_of_target\u001b[0;34m(y)\u001b[0m\n\u001b[1;32m    234\u001b[0m     \u001b[0;32mif\u001b[0m \u001b[0;32mnot\u001b[0m \u001b[0mvalid\u001b[0m\u001b[0;34m:\u001b[0m\u001b[0;34m\u001b[0m\u001b[0m\n\u001b[1;32m    235\u001b[0m         raise ValueError('Expected array-like (array or non-string sequence), '\n\u001b[0;32m--> 236\u001b[0;31m                          'got %r' % y)\n\u001b[0m\u001b[1;32m    237\u001b[0m \u001b[0;34m\u001b[0m\u001b[0m\n\u001b[1;32m    238\u001b[0m     \u001b[0;32mif\u001b[0m \u001b[0mis_multilabel\u001b[0m\u001b[0;34m(\u001b[0m\u001b[0my\u001b[0m\u001b[0;34m)\u001b[0m\u001b[0;34m:\u001b[0m\u001b[0;34m\u001b[0m\u001b[0m\n",
      "\u001b[0;31mValueError\u001b[0m: Expected array-like (array or non-string sequence), got None"
     ]
    }
   ],
   "source": [
    "f1_score(trueVal, pred)"
   ]
  },
  {
   "cell_type": "code",
   "execution_count": null,
   "metadata": {
    "collapsed": false
   },
   "outputs": [],
   "source": [
    "vals = []\n",
    "for i in range(-30,70):\n",
    "    predt = costTrollPredict([i])\n",
    "    cost = f1_score(trueVal, predt)\n",
    "    vals.append(cost)\n",
    "plt.plot(vals)"
   ]
  },
  {
   "cell_type": "code",
   "execution_count": null,
   "metadata": {
    "collapsed": false
   },
   "outputs": [],
   "source": [
    "np.asarray(costTrollPredict([50])).sum()"
   ]
  },
  {
   "cell_type": "code",
   "execution_count": null,
   "metadata": {
    "collapsed": false
   },
   "outputs": [],
   "source": [
    "output = np.asarray(trueVal)"
   ]
  },
  {
   "cell_type": "code",
   "execution_count": null,
   "metadata": {
    "collapsed": true
   },
   "outputs": [],
   "source": [
    "pred = np.asarray(costTrollPredict([0]))"
   ]
  },
  {
   "cell_type": "code",
   "execution_count": null,
   "metadata": {
    "collapsed": false
   },
   "outputs": [],
   "source": [
    "output.sum()"
   ]
  },
  {
   "cell_type": "code",
   "execution_count": null,
   "metadata": {
    "collapsed": false
   },
   "outputs": [],
   "source": [
    "len(pred)"
   ]
  },
  {
   "cell_type": "code",
   "execution_count": null,
   "metadata": {
    "collapsed": false
   },
   "outputs": [],
   "source": [
    "output[pred].sum()"
   ]
  },
  {
   "cell_type": "code",
   "execution_count": null,
   "metadata": {
    "collapsed": false
   },
   "outputs": [],
   "source": [
    "pred"
   ]
  },
  {
   "cell_type": "code",
   "execution_count": null,
   "metadata": {
    "collapsed": false
   },
   "outputs": [],
   "source": [
    "def calculateEffect(predFunc):\n",
    "    plotLog = []\n",
    "    plotFalse = []\n",
    "    plotx = []\n",
    "    for i in range(-100,100,5):\n",
    "        pred = np.asarray(predFunc([i]))\n",
    "        trollsFound = output[pred].sum()\n",
    "        falsePos = (output == False)[pred].sum()\n",
    "        falsePosPc =  ((100/(output==False).sum())*falsePos)  \n",
    "        plotLog.append((100/output.sum())*trollsFound)\n",
    "        plotFalse.append(falsePosPc)\n",
    "        plotx.append(i)\n",
    "    return plotLog,plotFalse,plotx\n",
    "\n",
    "[plotLog,plotFalse,plotx] = calculateEffect(costTrollPredict)"
   ]
  },
  {
   "cell_type": "code",
   "execution_count": null,
   "metadata": {
    "collapsed": false
   },
   "outputs": [],
   "source": [
    "plotDiff = list(map(lambda a,b: a-b,plotLog,plotFalse ))\n",
    "plt.title('Plot of % true positives against false positives (Trolls caught)')\n",
    "plt.plot(plotx,plotLog,c='g')\n",
    "plt.plot(plotx,plotFalse,c='r')\n",
    "plt.plot(plotx,plotDiff,c='b')\n",
    "plt.axvline(0,linestyle = 'dashed')"
   ]
  },
  {
   "cell_type": "markdown",
   "metadata": {},
   "source": [
    "# Lower solution complexity for product implimentation\n",
    "only calculate based on the top polarising negative words"
   ]
  },
  {
   "cell_type": "code",
   "execution_count": null,
   "metadata": {
    "collapsed": false
   },
   "outputs": [],
   "source": [
    "usedNeg = sortedNeg[:20]\n",
    "usedPos = sortedPos[:20]\n",
    "def calTrollScoreSim(comment):\n",
    "    words = str(comment).split(' ')\n",
    "    score = 0\n",
    "    for word in words:\n",
    "        if word in usedNeg:\n",
    "            score += usedNeg[word]\n",
    "        elif word in usedPos:\n",
    "            score += usedPos[word]\n",
    "    return score"
   ]
  },
  {
   "cell_type": "code",
   "execution_count": null,
   "metadata": {
    "collapsed": true
   },
   "outputs": [],
   "source": [
    "def predictTroll2(comment,theta):\n",
    "    return calTrollScoreSim(comment) > theta[0]\n",
    "\n",
    "def costTrollPredict2(theta):\n",
    "    result = list(map(lambda c:predictTroll2(c,theta),cleanedRecords))\n",
    "    return result"
   ]
  },
  {
   "cell_type": "code",
   "execution_count": null,
   "metadata": {
    "collapsed": false
   },
   "outputs": [],
   "source": [
    "costTrollPredict2([0])"
   ]
  },
  {
   "cell_type": "code",
   "execution_count": null,
   "metadata": {
    "collapsed": false
   },
   "outputs": [],
   "source": [
    "vals = []\n",
    "for i in range(0,140,5):\n",
    "    predt = costTrollPredict2([i])\n",
    "    cost = f1_score(trueVal, predt)\n",
    "    vals.append(cost)\n",
    "plt.plot(vals)"
   ]
  },
  {
   "cell_type": "code",
   "execution_count": null,
   "metadata": {
    "collapsed": false
   },
   "outputs": [],
   "source": [
    "[plotLog2,plotFalse2,plotx2] = calculateEffect(costTrollPredict2)"
   ]
  },
  {
   "cell_type": "code",
   "execution_count": null,
   "metadata": {
    "collapsed": false
   },
   "outputs": [],
   "source": [
    "plotDiff2 = list(map(lambda a,b: a-b,plotLog2,plotFalse2 ))\n",
    "plt.title('Plot of % true positives against false positives (Trolls caught) using top 100 polarizing')\n",
    "plt.plot(plotx2,plotLog2,c='g')\n",
    "plt.plot(plotx2,plotFalse2,c='r')\n",
    "plt.plot(plotx2,plotDiff2,c='b')\n",
    "plt.axvline(0,linestyle = 'dashed')"
   ]
  },
  {
   "cell_type": "code",
   "execution_count": null,
   "metadata": {
    "collapsed": false
   },
   "outputs": [],
   "source": [
    "def calculateEffectAt0(predFunc):\n",
    "    global usedNeg\n",
    "    global usedPos\n",
    "    plotLog = []\n",
    "    plotFalse = []\n",
    "    plotx = []\n",
    "    for i in range(1,200,5):\n",
    "        usedNeg = sortedNeg[:i]\n",
    "        usedPos = sortedPos[:i]\n",
    "        pred = np.asarray(predFunc([0]))\n",
    "        trollsFound = output[pred].sum()\n",
    "        falsePos = (output == False)[pred].sum()\n",
    "        falsePosPc =  ((100/(output==False).sum())*falsePos)  \n",
    "        plotLog.append((100/output.sum())*trollsFound)\n",
    "        plotFalse.append(falsePosPc)\n",
    "        plotx.append(i)\n",
    "    return plotLog,plotFalse,plotx"
   ]
  },
  {
   "cell_type": "code",
   "execution_count": null,
   "metadata": {
    "collapsed": true
   },
   "outputs": [],
   "source": [
    "[plotLog3,plotFalse3,plotx3] = calculateEffectAt0(costTrollPredict2)"
   ]
  },
  {
   "cell_type": "code",
   "execution_count": null,
   "metadata": {
    "collapsed": false
   },
   "outputs": [],
   "source": [
    "plotDiff3 = list(map(lambda a,b: a-b,plotLog3,plotFalse3 ))\n",
    "plt.title('Plot of % true positives against false positives (Trolls caught) using top x polarizing')\n",
    "plt.plot(plotx3,plotLog3,c='g')\n",
    "plt.plot(plotx3,plotFalse3,c='r')\n",
    "plt.plot(plotx3,plotDiff3,c='b')\n",
    "plt.axvline(0,linestyle = 'dashed')"
   ]
  },
  {
   "cell_type": "code",
   "execution_count": null,
   "metadata": {
    "collapsed": true
   },
   "outputs": [],
   "source": []
  }
 ],
 "metadata": {
  "kernelspec": {
   "display_name": "Python 3",
   "language": "python",
   "name": "python3"
  },
  "language_info": {
   "codemirror_mode": {
    "name": "ipython",
    "version": 3
   },
   "file_extension": ".py",
   "mimetype": "text/x-python",
   "name": "python",
   "nbconvert_exporter": "python",
   "pygments_lexer": "ipython3",
   "version": "3.5.2"
  }
 },
 "nbformat": 4,
 "nbformat_minor": 0
}
