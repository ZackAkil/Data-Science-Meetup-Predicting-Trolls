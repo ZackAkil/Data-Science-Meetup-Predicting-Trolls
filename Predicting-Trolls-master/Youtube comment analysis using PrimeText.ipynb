{
 "cells": [
  {
   "cell_type": "markdown",
   "metadata": {},
   "source": [
    "# Youtube comment analysis using PrimeText"
   ]
  },
  {
   "cell_type": "code",
   "execution_count": 1,
   "metadata": {
    "collapsed": false
   },
   "outputs": [],
   "source": [
    "%matplotlib inline"
   ]
  },
  {
   "cell_type": "code",
   "execution_count": 2,
   "metadata": {
    "collapsed": false
   },
   "outputs": [],
   "source": [
    "import sys\n",
    "import pandas as pa\n",
    "import numpy as np\n",
    "from primetext import primetext\n",
    "import matplotlib.pyplot as plt\n",
    "\n",
    "from nltk.stem.lancaster import LancasterStemmer\n",
    "from autocorrect import spell\n",
    "st = LancasterStemmer()  "
   ]
  },
  {
   "cell_type": "code",
   "execution_count": 3,
   "metadata": {
    "collapsed": false
   },
   "outputs": [],
   "source": [
    "pt = primetext()\n",
    "ytData = pa.read_csv(\"utubelabled.csv\",encoding ='ISO-8859-1')\n",
    "comments = ytData['comment']"
   ]
  },
  {
   "cell_type": "code",
   "execution_count": 4,
   "metadata": {
    "collapsed": false
   },
   "outputs": [],
   "source": [
    "comments = comments.str.replace('ï»¿','')"
   ]
  },
  {
   "cell_type": "code",
   "execution_count": 5,
   "metadata": {
    "collapsed": true
   },
   "outputs": [],
   "source": [
    "def cleanData(records,labels):\n",
    "    output = []\n",
    "    outputLabels = []\n",
    "\n",
    "    recordsChecked = 0\n",
    "    recordsToCheck = len(records)\n",
    "    for index,sentence in enumerate(records):\n",
    "        recordsChecked += 1\n",
    "        sys.stdout.write(\"\\rRecords cleaned : %i / %i\" % (recordsChecked,recordsToCheck))\n",
    "        cleanSentence = ''\n",
    "        if len(sentence) < 200:\n",
    "            words = sentence.split(' ')\n",
    "            for word in words:\n",
    "                if len(word) < 12:\n",
    "                    if word.isalpha():\n",
    "                        cleanSentence += st.stem(spell(word.lower())) + ' '\n",
    "        if cleanSentence:\n",
    "            output.append(cleanSentence.strip())  \n",
    "            outputLabels.append(labels[index])\n",
    "    sys.stdout.write(\"\\n\")\n",
    "    sys.stdout.flush()\n",
    "    return output,outputLabels"
   ]
  },
  {
   "cell_type": "code",
   "execution_count": 6,
   "metadata": {
    "collapsed": false
   },
   "outputs": [
    {
     "name": "stdout",
     "output_type": "stream",
     "text": [
      "Records cleaned : 3936 / 3936\n"
     ]
    }
   ],
   "source": [
    "[cleanedRecords, cleanedLabels] = cleanData(comments,ytData['troll'])\n"
   ]
  },
  {
   "cell_type": "code",
   "execution_count": 7,
   "metadata": {
    "collapsed": false
   },
   "outputs": [
    {
     "name": "stdout",
     "output_type": "stream",
     "text": [
      "Records checked : 3468\n",
      "Indexed dictionary\n",
      "Indexed comments\n"
     ]
    }
   ],
   "source": [
    "pt.index(cleanedRecords)"
   ]
  },
  {
   "cell_type": "code",
   "execution_count": 9,
   "metadata": {
    "collapsed": false
   },
   "outputs": [
    {
     "data": {
      "text/plain": [
       "<matplotlib.axes._subplots.AxesSubplot at 0x113252e48>"
      ]
     },
     "execution_count": 9,
     "metadata": {},
     "output_type": "execute_result"
    },
    {
     "data": {
      "image/png": "[encoded data removed]",
      "text/plain": [
       "<matplotlib.figure.Figure at 0x1132786d8>"
      ]
     },
     "metadata": {},
     "output_type": "display_data"
    }
   ],
   "source": [
    "keyText = []\n",
    "keyCount = []\n",
    "for key, value in pt.indexedDictionary.items():\n",
    "    c = pt.countInRecords([key])\n",
    "    keyText.append(key)\n",
    "    keyCount.append(c)\n",
    "    \n",
    "s1 = pa.Series(keyCount,index=keyText)\n",
    "\n",
    "sortedS1  = s1.sort_values(ascending= False)[:50]\n",
    "\n",
    "sortedS1.plot.bar()"
   ]
  },
  {
   "cell_type": "code",
   "execution_count": 10,
   "metadata": {
    "collapsed": false
   },
   "outputs": [],
   "source": [
    "df = pa.DataFrame(index=sortedS1.index, columns=sortedS1.index)\n",
    "df = df.fillna(0)"
   ]
  },
  {
   "cell_type": "code",
   "execution_count": 11,
   "metadata": {
    "collapsed": false
   },
   "outputs": [
    {
     "name": "stdout",
     "output_type": "stream",
     "text": [
      "Cols done : 50\n"
     ]
    }
   ],
   "source": [
    "names = sortedS1.index\n",
    "colsdone = 0\n",
    "for col in names:\n",
    "    colsdone += 1\n",
    "    sys.stdout.write(\"\\rCols done : %i\" % colsdone)\n",
    "    for row in names:\n",
    "        df[col][row] = pt.countInRecords([col,row])\n",
    "sys.stdout.write(\"\\n\")\n",
    "sys.stdout.flush()"
   ]
  },
  {
   "cell_type": "code",
   "execution_count": 12,
   "metadata": {
    "collapsed": false
   },
   "outputs": [
    {
     "data": {
      "image/png": "[encoded data removed]",
      "text/plain": [
       "<matplotlib.figure.Figure at 0x112f4cc88>"
      ]
     },
     "metadata": {},
     "output_type": "display_data"
    }
   ],
   "source": [
    "imgplot = plt.imshow(df,interpolation=\"nearest\")\n",
    "plt.xticks( range(len(names)), names, rotation=90 )\n",
    "plt.yticks( range(len(names)), names, rotation=0 )\n",
    "plt.colorbar()\n",
    "plt.show()"
   ]
  },
  {
   "cell_type": "code",
   "execution_count": 14,
   "metadata": {
    "collapsed": false
   },
   "outputs": [
    {
     "data": {
      "text/plain": [
       "346.0"
      ]
     },
     "execution_count": 14,
     "metadata": {},
     "output_type": "execute_result"
    }
   ],
   "source": [
    "myLabels = pa.Series(cleanedLabels)\n",
    "myLabels.sum()"
   ]
  },
  {
   "cell_type": "code",
   "execution_count": 15,
   "metadata": {
    "collapsed": false
   },
   "outputs": [
    {
     "data": {
      "text/plain": [
       "(0.90020190366310937, 0.099798096336890685)"
      ]
     },
     "execution_count": 15,
     "metadata": {},
     "output_type": "execute_result"
    }
   ],
   "source": [
    "totalComments = myLabels.count()\n",
    "totalTrollComments = myLabels.sum()\n",
    "trollWeight = (totalComments-totalTrollComments)/totalComments\n",
    "nonTrollWeight = totalTrollComments/totalComments\n",
    "\n",
    "trollWeight, nonTrollWeight"
   ]
  },
  {
   "cell_type": "code",
   "execution_count": 16,
   "metadata": {
    "collapsed": true
   },
   "outputs": [],
   "source": [
    "# for each troll comment add the troll weight to each word\n",
    "# for each non troll comment minus the nonTrollWeight from each word"
   ]
  },
  {
   "cell_type": "code",
   "execution_count": 17,
   "metadata": {
    "collapsed": false
   },
   "outputs": [
    {
     "data": {
      "text/plain": [
       "3158"
      ]
     },
     "execution_count": 17,
     "metadata": {},
     "output_type": "execute_result"
    }
   ],
   "source": [
    "len(pt.cleanedDictionary)"
   ]
  },
  {
   "cell_type": "code",
   "execution_count": 18,
   "metadata": {
    "collapsed": false
   },
   "outputs": [
    {
     "data": {
      "text/plain": [
       "61.0"
      ]
     },
     "execution_count": 18,
     "metadata": {},
     "output_type": "execute_result"
    }
   ],
   "source": [
    "totalFoundTrolling = myLabels[pt.find(['the'])].sum()\n",
    "totalFoundTrolling"
   ]
  },
  {
   "cell_type": "code",
   "execution_count": 19,
   "metadata": {
    "collapsed": false
   },
   "outputs": [
    {
     "data": {
      "text/plain": [
       "895.0"
      ]
     },
     "execution_count": 19,
     "metadata": {},
     "output_type": "execute_result"
    }
   ],
   "source": [
    "totalFoundNotTrolling = pt.find(['the']).sum() - totalFoundTrolling\n",
    "totalFoundNotTrolling"
   ]
  },
  {
   "cell_type": "code",
   "execution_count": 20,
   "metadata": {
    "collapsed": false
   },
   "outputs": [
    {
     "data": {
      "text/plain": [
       "-34.406980098067493"
      ]
     },
     "execution_count": 20,
     "metadata": {},
     "output_type": "execute_result"
    }
   ],
   "source": [
    "trollScore = (totalFoundTrolling * trollWeight) - (totalFoundNotTrolling * nonTrollWeight)\n",
    "trollScore"
   ]
  },
  {
   "cell_type": "code",
   "execution_count": 21,
   "metadata": {
    "collapsed": true
   },
   "outputs": [],
   "source": [
    "trollScores = []\n",
    "for word in pt.cleanedDictionary:\n",
    "    totalFoundTrolling = myLabels[pt.find([word])].sum()\n",
    "    totalFoundNotTrolling = pt.find([word]).sum() - totalFoundTrolling\n",
    "    trollScore = (totalFoundTrolling * trollWeight) - (totalFoundNotTrolling * nonTrollWeight)\n",
    "    trollScores.append(trollScore)\n"
   ]
  },
  {
   "cell_type": "code",
   "execution_count": 29,
   "metadata": {
    "collapsed": false
   },
   "outputs": [
    {
     "name": "stdout",
     "output_type": "stream",
     "text": [
      "the        -34.406980\n",
      "i          -22.377848\n",
      "to         -17.389963\n",
      "it         -13.837612\n",
      "lov        -12.366888\n",
      "for        -12.248918\n",
      "but        -12.069513\n",
      "and        -11.206519\n",
      "not         -9.466686\n",
      "was         -7.753966\n",
      "real        -7.376983\n",
      "al          -6.566484\n",
      "cut         -6.287280\n",
      "so          -5.945486\n",
      "know        -5.884050\n",
      "on          -5.733776\n",
      "happy       -5.688491\n",
      "good        -5.684453\n",
      "get         -5.572541\n",
      "my          -5.562446\n",
      "jam         -5.387078\n",
      "when        -5.277185\n",
      "do          -4.786271\n",
      "he          -4.743871\n",
      "best        -4.690511\n",
      "in          -4.328526\n",
      "pap         -4.191520\n",
      "wil         -4.083646\n",
      "me          -3.880012\n",
      "we          -3.782232\n",
      "too         -3.692530\n",
      "with        -3.668301\n",
      "out         -3.580617\n",
      "hav         -3.566484\n",
      "got         -3.486876\n",
      "about       -3.482838\n",
      "ov          -3.393135\n",
      "birthday    -3.393135\n",
      "thought     -3.293337\n",
      "song        -3.291318\n",
      "am          -3.289299\n",
      "mor         -3.287280\n",
      "video       -3.281223\n",
      "old         -3.193539\n",
      "thank       -3.189501\n",
      "run         -2.894145\n",
      "anyon       -2.894145\n",
      "way         -2.894145\n",
      "then        -2.892126\n",
      "first       -2.892126\n",
      "dtype: float64\n"
     ]
    },
    {
     "data": {
      "image/png": "[encoded data removed]",
      "text/plain": [
       "<matplotlib.figure.Figure at 0x1269607f0>"
      ]
     },
     "metadata": {},
     "output_type": "display_data"
    }
   ],
   "source": [
    "s2 = pa.Series(trollScores,index= pt.cleanedDictionary)\n",
    "\n",
    "sortedS2  = s2.sort_values(ascending= True)[:50]\n",
    "\n",
    "sortedS2.plot.bar()\n",
    "print(sortedS2)"
   ]
  },
  {
   "cell_type": "code",
   "execution_count": 24,
   "metadata": {
    "collapsed": false
   },
   "outputs": [
    {
     "data": {
      "text/plain": [
       "<matplotlib.axes._subplots.AxesSubplot at 0x112caea90>"
      ]
     },
     "execution_count": 24,
     "metadata": {},
     "output_type": "execute_result"
    },
    {
     "data": {
      "image/png": "[encoded data removed]",
      "text/plain": [
       "<matplotlib.figure.Figure at 0x113302828>"
      ]
     },
     "metadata": {},
     "output_type": "display_data"
    }
   ],
   "source": [
    "s2 = pa.Series(trollScores,index= pt.cleanedDictionary)\n",
    "\n",
    "sortedS2  = s2.sort_values(ascending= False)[:50]\n",
    "\n",
    "sortedS2.plot.bar()"
   ]
  },
  {
   "cell_type": "code",
   "execution_count": null,
   "metadata": {
    "collapsed": true
   },
   "outputs": [],
   "source": []
  }
 ],
 "metadata": {
  "kernelspec": {
   "display_name": "Python 3",
   "language": "python",
   "name": "python3"
  },
  "language_info": {
   "codemirror_mode": {
    "name": "ipython",
    "version": 3
   },
   "file_extension": ".py",
   "mimetype": "text/x-python",
   "name": "python",
   "nbconvert_exporter": "python",
   "pygments_lexer": "ipython3",
   "version": "3.5.2"
  }
 },
 "nbformat": 4,
 "nbformat_minor": 0
}
