{
 "cells": [
  {
   "cell_type": "code",
   "execution_count": 1,
   "metadata": {
    "collapsed": true
   },
   "outputs": [],
   "source": [
    "%matplotlib inline"
   ]
  },
  {
   "cell_type": "code",
   "execution_count": 2,
   "metadata": {
    "collapsed": true
   },
   "outputs": [],
   "source": [
    "import random\n",
    "import time\n",
    "import copy\n",
    "\n",
    "import numpy as np\n",
    "import numpy.core.defchararray as npstr\n",
    "import matplotlib.pyplot as plt"
   ]
  },
  {
   "cell_type": "markdown",
   "metadata": {},
   "source": [
    "# Synthetic test data generation\n",
    "Deveopling convienent function that allow for control over different varibles concerning the data set will make comparing performance of the exsperimental technique more reliable and reproducable."
   ]
  },
  {
   "cell_type": "code",
   "execution_count": 3,
   "metadata": {
    "collapsed": false
   },
   "outputs": [],
   "source": [
    "def generateWord(length):\n",
    "    abc = 'abcdefghijklmnopqrstuvwxyz'\n",
    "    word = ''\n",
    "    for i in range(length):\n",
    "        word += random.choice(abc)\n",
    "    return word\n",
    "\n",
    "def generateLengths(count,mean, dist, showGraph = False):\n",
    "    s = np.random.normal(mean, dist, count)\n",
    "    s = np.round(s,0).astype(int)\n",
    "    lessThanOne = s < 1\n",
    "    s[lessThanOne] = 1\n",
    "    if showGraph:\n",
    "        count, bins, ignored = plt.hist(s, 30, normed=True)\n",
    "        plt.show()\n",
    "    return s\n",
    "\n",
    "def generateDictionary(count):\n",
    "    currentDict = []\n",
    "    wordLengths = generateLengths(count,5,1)\n",
    "    for length in wordLengths:\n",
    "        oldLen = len(currentDict)\n",
    "        while(len(currentDict) == oldLen):\n",
    "            word = generateWord(length)\n",
    "            if word not in currentDict:\n",
    "                currentDict.append(word)  \n",
    "    return np.asarray(currentDict)\n",
    "\n",
    "def generateComments(count,dictionary,mean,dist,showGraph = False):\n",
    "    comments = []\n",
    "    lengths = generateLengths(count,mean,dist,showGraph) \n",
    "    for length in lengths:\n",
    "        comment = ''\n",
    "        for i in range(length):\n",
    "            comment += random.choice(dictionary) + ' '\n",
    "        comments.append(comment.rstrip())\n",
    "    return np.asarray(comments)"
   ]
  },
  {
   "cell_type": "code",
   "execution_count": 4,
   "metadata": {
    "collapsed": false
   },
   "outputs": [
    {
     "data": {
      "text/plain": [
       "'hhr'"
      ]
     },
     "execution_count": 4,
     "metadata": {},
     "output_type": "execute_result"
    }
   ],
   "source": [
    "\n",
    "generateWord(3)"
   ]
  },
  {
   "cell_type": "code",
   "execution_count": 5,
   "metadata": {
    "collapsed": false
   },
   "outputs": [
    {
     "data": {
      "text/plain": [
       "array([5, 4, 5, 3, 6, 3, 5, 5, 4, 8])"
      ]
     },
     "execution_count": 5,
     "metadata": {},
     "output_type": "execute_result"
    }
   ],
   "source": [
    "random.seed(50)\n",
    "np.random.seed(12)\n",
    "generateLengths(10,5,1)"
   ]
  },
  {
   "cell_type": "code",
   "execution_count": 6,
   "metadata": {
    "collapsed": false
   },
   "outputs": [
    {
     "data": {
      "text/plain": [
       "array(['piluh', 'wpykc', 'rkhvr', 'celd', 'lkhgc', 'ktt', 'nucc', 'wtkz',\n",
       "       'wunah', 'kiznw', 'dgoiw', 'soeit', 'grsdnv', 'twduz', 'rpnq',\n",
       "       'rvepsq', 'jclyq', 'ealasvn', 'pzurzh', 'fxsde'], \n",
       "      dtype='<U7')"
      ]
     },
     "execution_count": 6,
     "metadata": {},
     "output_type": "execute_result"
    }
   ],
   "source": [
    "random.seed(50)\n",
    "np.random.seed(15)\n",
    "dictionary = generateDictionary(20)\n",
    "dictionary"
   ]
  },
  {
   "cell_type": "code",
   "execution_count": 7,
   "metadata": {
    "collapsed": false
   },
   "outputs": [
    {
     "data": {
      "image/png": "[encoded data removed]",
      "text/plain": [
       "<matplotlib.figure.Figure at 0x10d011be0>"
      ]
     },
     "metadata": {},
     "output_type": "display_data"
    },
    {
     "data": {
      "text/plain": [
       "array(['wtkz rvepsq dgoiw', 'rkhvr ealasvn dgoiw', 'wtkz ealasvn',\n",
       "       'rkhvr lkhgc soeit'], \n",
       "      dtype='<U47')"
      ]
     },
     "execution_count": 7,
     "metadata": {},
     "output_type": "execute_result"
    }
   ],
   "source": [
    "random.seed(50)\n",
    "np.random.seed(15)\n",
    "comments = generateComments(1000000,dictionary,3,1,True)\n",
    "comments[1:5]"
   ]
  },
  {
   "cell_type": "markdown",
   "metadata": {},
   "source": [
    "# Finding word pairs using string comparision"
   ]
  },
  {
   "cell_type": "code",
   "execution_count": 8,
   "metadata": {
    "collapsed": false
   },
   "outputs": [],
   "source": [
    "def findCommentsWithWords(comments,words):\n",
    "    currentVocab = copy.deepcopy(comments)\n",
    "    for w in words:\n",
    "        currentVocab = currentVocab[(npstr.find(currentVocab, w) != -1)]\n",
    "    return currentVocab\n",
    "\n",
    "def numberOfMatches(comments, words):\n",
    "    result = findCommentsWithWords(comments,words )\n",
    "    #print(result)\n",
    "    return len(result)\n",
    "    "
   ]
  },
  {
   "cell_type": "code",
   "execution_count": 9,
   "metadata": {
    "collapsed": false
   },
   "outputs": [
    {
     "name": "stdout",
     "output_type": "stream",
     "text": [
      "16489\n",
      "1.292099952697754 seconds\n"
     ]
    }
   ],
   "source": [
    "start = time.time()\n",
    "print(numberOfMatches(comments, ['celd','piluh']))\n",
    "end = time.time()\n",
    "print(str(end - start)+' seconds')"
   ]
  },
  {
   "cell_type": "markdown",
   "metadata": {},
   "source": [
    "# Finding word paris using indexing by prime factorisation"
   ]
  },
  {
   "cell_type": "markdown",
   "metadata": {},
   "source": [
    "### Step 1. Preprocessing\n",
    "To begin we need to assign each unque word in your dictionary with a unique prime number"
   ]
  },
  {
   "cell_type": "code",
   "execution_count": 10,
   "metadata": {
    "collapsed": false
   },
   "outputs": [
    {
     "data": {
      "text/plain": [
       "array([[1, 2],\n",
       "       [2, 3],\n",
       "       [3, 5],\n",
       "       [4, 7]])"
      ]
     },
     "execution_count": 10,
     "metadata": {},
     "output_type": "execute_result"
    }
   ],
   "source": [
    "primes = np.genfromtxt ('primes.csv', delimiter=\",\").astype(int)\n",
    "primes[1:5]"
   ]
  },
  {
   "cell_type": "code",
   "execution_count": 11,
   "metadata": {
    "collapsed": false
   },
   "outputs": [],
   "source": [
    "primeFit = primes[1:len(dictionary)+1,1]"
   ]
  },
  {
   "cell_type": "code",
   "execution_count": 12,
   "metadata": {
    "collapsed": false
   },
   "outputs": [
    {
     "data": {
      "text/plain": [
       "{'celd': '7',\n",
       " 'dgoiw': '31',\n",
       " 'ealasvn': '61',\n",
       " 'fxsde': '71',\n",
       " 'grsdnv': '41',\n",
       " 'jclyq': '59',\n",
       " 'kiznw': '29',\n",
       " 'ktt': '13',\n",
       " 'lkhgc': '11',\n",
       " 'nucc': '17',\n",
       " 'piluh': '2',\n",
       " 'pzurzh': '67',\n",
       " 'rkhvr': '5',\n",
       " 'rpnq': '47',\n",
       " 'rvepsq': '53',\n",
       " 'soeit': '37',\n",
       " 'twduz': '43',\n",
       " 'wpykc': '3',\n",
       " 'wtkz': '19',\n",
       " 'wunah': '23'}"
      ]
     },
     "execution_count": 12,
     "metadata": {},
     "output_type": "execute_result"
    }
   ],
   "source": [
    "index = dict(np.c_[dictionary,primeFit])\n",
    "index['pzurzh']\n",
    "index"
   ]
  },
  {
   "cell_type": "code",
   "execution_count": 61,
   "metadata": {
    "collapsed": false
   },
   "outputs": [],
   "source": [
    "def createIndexSchema(dictionary):\n",
    "    primes = np.genfromtxt ('primes.csv', delimiter=\",\").astype(int)\n",
    "    primeFit = primes[1:len(dictionary)+1,1]\n",
    "    index = dict(np.c_[dictionary,primeFit])\n",
    "    return index"
   ]
  },
  {
   "cell_type": "code",
   "execution_count": 90,
   "metadata": {
    "collapsed": false
   },
   "outputs": [],
   "source": [
    "def indexComments(comments,indexSchemal):\n",
    "    output = []\n",
    "    for comment in comments:\n",
    "        prod = 1\n",
    "        words = comment.split(' ')\n",
    "        for word in words:\n",
    "            prod *= int(indexSchemal[word])\n",
    "        output.append(prod)\n",
    "    return output"
   ]
  },
  {
   "cell_type": "code",
   "execution_count": 91,
   "metadata": {
    "collapsed": false
   },
   "outputs": [],
   "source": [
    "indexedComments = indexComments(comments,index)"
   ]
  },
  {
   "cell_type": "code",
   "execution_count": 92,
   "metadata": {
    "collapsed": true
   },
   "outputs": [],
   "source": [
    "def preprocessPrimeComments(dictionary,comments):\n",
    "    indexSchemal = createIndexSchema(dictionary)\n",
    "    indexedComments = indexComments(comments,indexSchemal)\n",
    "    return [indexSchemal,indexedComments]"
   ]
  },
  {
   "cell_type": "code",
   "execution_count": 93,
   "metadata": {
    "collapsed": false
   },
   "outputs": [],
   "source": [
    "def convertWordsToProduct(indexSchema, words):\n",
    "    output = 1\n",
    "    for word in words:\n",
    "        output *= int(indexSchema[word])\n",
    "    return output\n",
    "\n",
    "def searchByPrimeFact(indexedComments,serachProduct):\n",
    "    return  (np.mod(indexedComments, serachProduct) == 0)\n",
    "\n",
    "def findCommentsUsingPrimeFact(indexedComments,index, words):\n",
    "    prod = convertWordsToProduct(index, words)\n",
    "    return searchByPrimeFact(indexedComments,prod)"
   ]
  },
  {
   "cell_type": "code",
   "execution_count": 16,
   "metadata": {
    "collapsed": false
   },
   "outputs": [
    {
     "name": "stdout",
     "output_type": "stream",
     "text": [
      "16489\n",
      "0.0896921157836914 seconds\n"
     ]
    }
   ],
   "source": [
    "start = time.time()\n",
    "print(findCommentsUsingPrimeFact(indexedComments,index,['celd','piluh']).sum())\n",
    "end = time.time()\n",
    "print(str(end - start)+' seconds')"
   ]
  },
  {
   "cell_type": "markdown",
   "metadata": {},
   "source": [
    "# Compare Performance\n",
    "The different varibles that will be tested are: \n",
    "\n",
    "* Number of comments x\n",
    "* Number of query words x\n",
    "* Length of comments x\n",
    "* Dictionary length x\n"
   ]
  },
  {
   "cell_type": "code",
   "execution_count": 17,
   "metadata": {
    "collapsed": true
   },
   "outputs": [],
   "source": [
    "def timeFunction(func, *params):\n",
    "    start = time.time()\n",
    "    output = func(*params)\n",
    "    end = time.time()\n",
    "    return[output, (end - start)]"
   ]
  },
  {
   "cell_type": "code",
   "execution_count": 18,
   "metadata": {
    "collapsed": false
   },
   "outputs": [
    {
     "name": "stdout",
     "output_type": "stream",
     "text": [
      "16489 0.08603191375732422\n"
     ]
    }
   ],
   "source": [
    "[o,t] = timeFunction(findCommentsUsingPrimeFact,indexedComments,index,['celd','piluh'])\n",
    "print(o.sum(),t)"
   ]
  },
  {
   "cell_type": "code",
   "execution_count": 118,
   "metadata": {
    "collapsed": true
   },
   "outputs": [],
   "source": [
    "def generateCommentData(dictLength, numOfComments, commentLengthMean, commentLengthDist, graph = False):\n",
    "    random.seed(50)\n",
    "    np.random.seed(15)\n",
    "    dictionary = generateDictionary(dictLength)\n",
    "    comments = generateComments(numOfComments,dictionary,commentLengthMean,commentLengthDist,graph)\n",
    "    return [dictionary, comments]"
   ]
  },
  {
   "cell_type": "code",
   "execution_count": 119,
   "metadata": {
    "collapsed": false,
    "scrolled": true
   },
   "outputs": [
    {
     "data": {
      "image/png": "[encoded data removed]",
      "text/plain": [
       "<matplotlib.figure.Figure at 0x10e6f1d30>"
      ]
     },
     "metadata": {},
     "output_type": "display_data"
    }
   ],
   "source": [
    "[d,c] = generateCommentData(300,100000,7,1, True)"
   ]
  },
  {
   "cell_type": "code",
   "execution_count": 105,
   "metadata": {
    "collapsed": false
   },
   "outputs": [
    {
     "data": {
      "text/plain": [
       "array(['piluh', 'wpykc', 'rkhvr', 'celd', 'lkhgc', 'ktt', 'nucc', 'wtkz',\n",
       "       'wunah', 'kiznw', 'dgoiw', 'soeit', 'grsdnv', 'twduz', 'rpnq',\n",
       "       'rvepsq', 'jclyq', 'ealasvn', 'pzurzh', 'fxsde', 'imzhk', 'buqb',\n",
       "       'cuhvi', 'qnos', 'nympc', 'mdl', 'byya', 'covusa', 'jklruv',\n",
       "       'qpcjfn', 'gdv', 'cafe', 'beaj', 'vxl', 'afqbh', 'swjws', 'aepmn',\n",
       "       'lreha', 'qtju', 'kmkberp', 'jezdkm', 'wziq', 'rddrca', 'djup',\n",
       "       'oijzv', 'thzihs', 'vghj', 'hbrpf', 'hdwix', 'myaxjrd', 'zfvnhpm',\n",
       "       'yrbqj', 'pdffykq', 'gahg', 'zpjwv', 'ouurrd', 'gblag', 'chedw',\n",
       "       'odixp', 'gflmtb', 'dcylm', 'tabm', 'ptkny', 'dqpo', 'houwrq',\n",
       "       'dzx', 'dhve', 'rapjzj', 'qvsmx', 'rtmqese', 'bqgmm', 'ik',\n",
       "       'vlkjlj', 'pedcx', 'vrzrk', 'runn', 'prang', 'eusyzj', 'oukbk',\n",
       "       'hfhql', 'ayvlhd', 'qmxvn', 'kqvt', 'kojou', 'ugfsnw', 'myoywki',\n",
       "       'lsnub', 'nkvh', 'dbrltu', 'xvoblu', 'rpfi', 'npig', 'ajttcvk',\n",
       "       'cxl', 'ylbl', 'caocs', 'jmwd', 'vwepv', 'nfrqe', 'hjawb', 'inyn',\n",
       "       'qorh', 'afwyh', 'jiwvyl', 'lxuh', 'sotpmht', 'oywv', 'imssly',\n",
       "       'vhxfqpq', 'qitrhd', 'yerlz', 'rdidwmq', 'mhjdkz', 'dlpff', 'yaxbh',\n",
       "       'axwcr', 'zokrz', 'izfarzk', 'wtlxxr', 'wxbwt', 'wpnyr', 'uaqaj',\n",
       "       'snoxm', 'fmdo', 'kzcxj', 'vnkrq', 'dpwdv', 'gfuog', 'tobt',\n",
       "       'yylexr', 'ebrwzy', 'nz', 'lpkot', 'oqmok', 'fpqei', 'bbhzdj',\n",
       "       'cwpgp', 'rzpqe', 'rsmm', 'dxdmws', 'sfb', 'fwmmv', 'rxkj', 'yjtei',\n",
       "       'rloxp', 'biop', 'sozc', 'ipsfk', 'hsoe', 'jztryz', 'shpal', 'kufa',\n",
       "       'masdnf', 'sybsr', 'cnotj', 'ctnzfth', 'oqwtdz', 'qlbj', 'quedya',\n",
       "       'wclgj', 'zjpleh', 'qpxwy', 'qws', 'sh', 'tkrt', 'ehic', 'ezdi',\n",
       "       'xiqkhbn', 'sifsr', 'bxenrn', 'gncq', 'jbsyam', 'xyix', 'qbw',\n",
       "       'abcqz', 'gfrmb', 'znhw', 'rnxehg', 'slfsn', 'mqg', 'bcu', 'rqepui',\n",
       "       'rsxkyq', 'lamxmh', 'yqyv', 'bgtu', 'cpnzeg', 'jkbzk', 'ttmrn',\n",
       "       'nsimkr', 'zokmvm', 'kffc', 'fnkzt', 'xzoio', 'mqoy', 'ccxgzn',\n",
       "       'cdrk', 'qlmpd', 'sofss', 'monbcr', 'deyno', 'cqke', 'ennoc',\n",
       "       'sxfw', 'fnvoza', 'lhnnh', 'piqgh', 'wxwcw', 'ouklpo', 'luyre',\n",
       "       'qyht', 'rjvebv', 'mgnoc', 'ptjjl', 'wrhaew', 'ksnlr', 'dydbnoz',\n",
       "       'qibdh', 'xcute', 'dsrvb', 'dlora', 'yehlh', 'vfrgv', 'srti',\n",
       "       'mdwqe', 'jqvdb', 'akstbrc', 'qcprx', 'jrdx', 'goke', 'euwgj',\n",
       "       'cjjlo', 'wiqm', 'lirxtf', 'ita', 'zqpv', 'eilbc', 'bysfx', 'qokf',\n",
       "       'hufgzv', 'kmmefr', 'ppmvp', 'awjqt', 'qljdf', 'uxmbw', 'iehcdg',\n",
       "       'rsccsy', 'lxgmsd', 'qeqfz', 'urlb', 'mvb', 'uswhx', 'shpq', 'ukge',\n",
       "       'ztninb', 'eyzpk', 'rpjns', 'iwbei', 'ngkajj', 'ennyqp', 'sayc',\n",
       "       'vsmy', 'nubv', 'rpwzy', 'pgbmfgd', 'obxgz', 'xdgty', 'ungekl',\n",
       "       'mpxkzc', 'aaku', 'mvq', 'qcntpgqg', 'xyqsh', 'dtny', 'yxbytz',\n",
       "       'wllh', 'xrnaq', 'wzf', 'sswgqn', 'abdx', 'awfiu', 'jxuizf',\n",
       "       'nulgr', 'dnowzxn', 'djakv', 'hsq', 'guxvny', 'tgjujn', 'nktmok',\n",
       "       'awdp', 'rysu', 'auovd', 'qmwdyo', 'rrlpj', 'zuechb', 'jknndf',\n",
       "       'pfcwgj', 'nptm', 'xni', 'xtuqm'], \n",
       "      dtype='<U8')"
      ]
     },
     "execution_count": 105,
     "metadata": {},
     "output_type": "execute_result"
    }
   ],
   "source": [
    "d"
   ]
  },
  {
   "cell_type": "code",
   "execution_count": 106,
   "metadata": {
    "collapsed": false
   },
   "outputs": [
    {
     "data": {
      "text/plain": [
       "array(['tkrt rkhvr nptm runn tabm chedw qpcjfn gahg',\n",
       "       'oijzv oijzv ezdi zokmvm bysfx ennoc',\n",
       "       'odixp awjqt ngkajj dzx hsoe grsdnv piqgh rpjns',\n",
       "       'zjpleh qcprx ztninb masdnf uaqaj yerlz rapjzj',\n",
       "       'kqvt djup hbrpf lhnnh snoxm wllh rpjns',\n",
       "       'monbcr sotpmht ezdi oqwtdz tkrt zjpleh',\n",
       "       'srti rrlpj uswhx kffc sozc hbrpf',\n",
       "       'sswgqn gflmtb hsoe uaqaj sifsr gblag dcylm',\n",
       "       'ccxgzn xvoblu nulgr dzx wzf lkhgc jkbzk oqwtdz'], \n",
       "      dtype='<U71')"
      ]
     },
     "execution_count": 106,
     "metadata": {},
     "output_type": "execute_result"
    }
   ],
   "source": [
    "c[1:10]"
   ]
  },
  {
   "cell_type": "code",
   "execution_count": 107,
   "metadata": {
    "collapsed": false
   },
   "outputs": [],
   "source": [
    "def pickRandomWordsFromDict(dictionary, minLength, maxLength, count):\n",
    "    output = []\n",
    "    for word in dictionary:\n",
    "        if maxLength >= len(word) >= minLength:\n",
    "            output.append(word)\n",
    "            if len(output)==count:\n",
    "                return output\n",
    "    return ValueError('Dictionary did not conatin enough word of your min length')\n",
    "    "
   ]
  },
  {
   "cell_type": "code",
   "execution_count": 108,
   "metadata": {
    "collapsed": false
   },
   "outputs": [
    {
     "data": {
      "text/plain": [
       "['piluh', 'wpykc', 'rkhvr']"
      ]
     },
     "execution_count": 108,
     "metadata": {},
     "output_type": "execute_result"
    }
   ],
   "source": [
    "wordsToserachFor = pickRandomWordsFromDict(d,3,7,3)\n",
    "wordsToserachFor"
   ]
  },
  {
   "cell_type": "code",
   "execution_count": 109,
   "metadata": {
    "collapsed": true
   },
   "outputs": [],
   "source": [
    "[o,t] = timeFunction(numberOfMatches, c, wordsToserachFor)"
   ]
  },
  {
   "cell_type": "code",
   "execution_count": 110,
   "metadata": {
    "collapsed": false
   },
   "outputs": [
    {
     "data": {
      "text/plain": [
       "0.1272280216217041"
      ]
     },
     "execution_count": 110,
     "metadata": {},
     "output_type": "execute_result"
    }
   ],
   "source": [
    "t"
   ]
  },
  {
   "cell_type": "code",
   "execution_count": 111,
   "metadata": {
    "collapsed": false
   },
   "outputs": [
    {
     "data": {
      "text/plain": [
       "array(['piluh', 'wpykc', 'rkhvr', 'celd', 'lkhgc', 'ktt', 'nucc', 'wtkz',\n",
       "       'wunah', 'kiznw', 'dgoiw', 'soeit', 'grsdnv', 'twduz', 'rpnq',\n",
       "       'rvepsq', 'jclyq', 'ealasvn', 'pzurzh', 'fxsde', 'imzhk', 'buqb',\n",
       "       'cuhvi', 'qnos', 'nympc', 'mdl', 'byya', 'covusa', 'jklruv',\n",
       "       'qpcjfn', 'gdv', 'cafe', 'beaj', 'vxl', 'afqbh', 'swjws', 'aepmn',\n",
       "       'lreha', 'qtju', 'kmkberp', 'jezdkm', 'wziq', 'rddrca', 'djup',\n",
       "       'oijzv', 'thzihs', 'vghj', 'hbrpf', 'hdwix', 'myaxjrd', 'zfvnhpm',\n",
       "       'yrbqj', 'pdffykq', 'gahg', 'zpjwv', 'ouurrd', 'gblag', 'chedw',\n",
       "       'odixp', 'gflmtb', 'dcylm', 'tabm', 'ptkny', 'dqpo', 'houwrq',\n",
       "       'dzx', 'dhve', 'rapjzj', 'qvsmx', 'rtmqese', 'bqgmm', 'ik',\n",
       "       'vlkjlj', 'pedcx', 'vrzrk', 'runn', 'prang', 'eusyzj', 'oukbk',\n",
       "       'hfhql', 'ayvlhd', 'qmxvn', 'kqvt', 'kojou', 'ugfsnw', 'myoywki',\n",
       "       'lsnub', 'nkvh', 'dbrltu', 'xvoblu', 'rpfi', 'npig', 'ajttcvk',\n",
       "       'cxl', 'ylbl', 'caocs', 'jmwd', 'vwepv', 'nfrqe', 'hjawb', 'inyn',\n",
       "       'qorh', 'afwyh', 'jiwvyl', 'lxuh', 'sotpmht', 'oywv', 'imssly',\n",
       "       'vhxfqpq', 'qitrhd', 'yerlz', 'rdidwmq', 'mhjdkz', 'dlpff', 'yaxbh',\n",
       "       'axwcr', 'zokrz', 'izfarzk', 'wtlxxr', 'wxbwt', 'wpnyr', 'uaqaj',\n",
       "       'snoxm', 'fmdo', 'kzcxj', 'vnkrq', 'dpwdv', 'gfuog', 'tobt',\n",
       "       'yylexr', 'ebrwzy', 'nz', 'lpkot', 'oqmok', 'fpqei', 'bbhzdj',\n",
       "       'cwpgp', 'rzpqe', 'rsmm', 'dxdmws', 'sfb', 'fwmmv', 'rxkj', 'yjtei',\n",
       "       'rloxp', 'biop', 'sozc', 'ipsfk', 'hsoe', 'jztryz', 'shpal', 'kufa',\n",
       "       'masdnf', 'sybsr', 'cnotj', 'ctnzfth', 'oqwtdz', 'qlbj', 'quedya',\n",
       "       'wclgj', 'zjpleh', 'qpxwy', 'qws', 'sh', 'tkrt', 'ehic', 'ezdi',\n",
       "       'xiqkhbn', 'sifsr', 'bxenrn', 'gncq', 'jbsyam', 'xyix', 'qbw',\n",
       "       'abcqz', 'gfrmb', 'znhw', 'rnxehg', 'slfsn', 'mqg', 'bcu', 'rqepui',\n",
       "       'rsxkyq', 'lamxmh', 'yqyv', 'bgtu', 'cpnzeg', 'jkbzk', 'ttmrn',\n",
       "       'nsimkr', 'zokmvm', 'kffc', 'fnkzt', 'xzoio', 'mqoy', 'ccxgzn',\n",
       "       'cdrk', 'qlmpd', 'sofss', 'monbcr', 'deyno', 'cqke', 'ennoc',\n",
       "       'sxfw', 'fnvoza', 'lhnnh', 'piqgh', 'wxwcw', 'ouklpo', 'luyre',\n",
       "       'qyht', 'rjvebv', 'mgnoc', 'ptjjl', 'wrhaew', 'ksnlr', 'dydbnoz',\n",
       "       'qibdh', 'xcute', 'dsrvb', 'dlora', 'yehlh', 'vfrgv', 'srti',\n",
       "       'mdwqe', 'jqvdb', 'akstbrc', 'qcprx', 'jrdx', 'goke', 'euwgj',\n",
       "       'cjjlo', 'wiqm', 'lirxtf', 'ita', 'zqpv', 'eilbc', 'bysfx', 'qokf',\n",
       "       'hufgzv', 'kmmefr', 'ppmvp', 'awjqt', 'qljdf', 'uxmbw', 'iehcdg',\n",
       "       'rsccsy', 'lxgmsd', 'qeqfz', 'urlb', 'mvb', 'uswhx', 'shpq', 'ukge',\n",
       "       'ztninb', 'eyzpk', 'rpjns', 'iwbei', 'ngkajj', 'ennyqp', 'sayc',\n",
       "       'vsmy', 'nubv', 'rpwzy', 'pgbmfgd', 'obxgz', 'xdgty', 'ungekl',\n",
       "       'mpxkzc', 'aaku', 'mvq', 'qcntpgqg', 'xyqsh', 'dtny', 'yxbytz',\n",
       "       'wllh', 'xrnaq', 'wzf', 'sswgqn', 'abdx', 'awfiu', 'jxuizf',\n",
       "       'nulgr', 'dnowzxn', 'djakv', 'hsq', 'guxvny', 'tgjujn', 'nktmok',\n",
       "       'awdp', 'rysu', 'auovd', 'qmwdyo', 'rrlpj', 'zuechb', 'jknndf',\n",
       "       'pfcwgj', 'nptm', 'xni', 'xtuqm'], \n",
       "      dtype='<U8')"
      ]
     },
     "execution_count": 111,
     "metadata": {},
     "output_type": "execute_result"
    }
   ],
   "source": [
    "d"
   ]
  },
  {
   "cell_type": "code",
   "execution_count": 112,
   "metadata": {
    "collapsed": false
   },
   "outputs": [],
   "source": [
    "[indx,indxCom] = preprocessPrimeComments(d,c)"
   ]
  },
  {
   "cell_type": "code",
   "execution_count": 113,
   "metadata": {
    "collapsed": true
   },
   "outputs": [
    {
     "data": {
      "text/plain": [
       "{'aaku': '1733',\n",
       " 'abcqz': '1039',\n",
       " 'abdx': '1811',\n",
       " 'aepmn': '157',\n",
       " 'afqbh': '149',\n",
       " 'afwyh': '563',\n",
       " 'ajttcvk': '487',\n",
       " 'akstbrc': '1433',\n",
       " 'auovd': '1907',\n",
       " 'awdp': '1889',\n",
       " 'awfiu': '1823',\n",
       " 'awjqt': '1543',\n",
       " 'axwcr': '641',\n",
       " 'ayvlhd': '419',\n",
       " 'bbhzdj': '769',\n",
       " 'bcu': '1087',\n",
       " 'beaj': '137',\n",
       " 'bgtu': '1109',\n",
       " 'biop': '839',\n",
       " 'bqgmm': '353',\n",
       " 'buqb': '79',\n",
       " 'bxenrn': '1013',\n",
       " 'bysfx': '1493',\n",
       " 'byya': '103',\n",
       " 'cafe': '131',\n",
       " 'caocs': '503',\n",
       " 'ccxgzn': '1193',\n",
       " 'cdrk': '1201',\n",
       " 'celd': '7',\n",
       " 'chedw': '271',\n",
       " 'cjjlo': '1459',\n",
       " 'cnotj': '907',\n",
       " 'covusa': '107',\n",
       " 'cpnzeg': '1117',\n",
       " 'cqke': '1231',\n",
       " 'ctnzfth': '911',\n",
       " 'cuhvi': '83',\n",
       " 'cwpgp': '773',\n",
       " 'cxl': '491',\n",
       " 'dbrltu': '461',\n",
       " 'dcylm': '283',\n",
       " 'deyno': '1229',\n",
       " 'dgoiw': '31',\n",
       " 'dhve': '331',\n",
       " 'djakv': '1867',\n",
       " 'djup': '193',\n",
       " 'dlora': '1381',\n",
       " 'dlpff': '619',\n",
       " 'dnowzxn': '1861',\n",
       " 'dpwdv': '709',\n",
       " 'dqpo': '311',\n",
       " 'dsrvb': '1373',\n",
       " 'dtny': '1759',\n",
       " 'dxdmws': '809',\n",
       " 'dydbnoz': '1327',\n",
       " 'dzx': '317',\n",
       " 'ealasvn': '61',\n",
       " 'ebrwzy': '739',\n",
       " 'ehic': '983',\n",
       " 'eilbc': '1489',\n",
       " 'ennoc': '1237',\n",
       " 'ennyqp': '1657',\n",
       " 'eusyzj': '397',\n",
       " 'euwgj': '1453',\n",
       " 'eyzpk': '1619',\n",
       " 'ezdi': '991',\n",
       " 'fmdo': '683',\n",
       " 'fnkzt': '1171',\n",
       " 'fnvoza': '1259',\n",
       " 'fpqei': '761',\n",
       " 'fwmmv': '821',\n",
       " 'fxsde': '71',\n",
       " 'gahg': '251',\n",
       " 'gblag': '269',\n",
       " 'gdv': '127',\n",
       " 'gflmtb': '281',\n",
       " 'gfrmb': '1049',\n",
       " 'gfuog': '719',\n",
       " 'gncq': '1019',\n",
       " 'goke': '1451',\n",
       " 'grsdnv': '41',\n",
       " 'guxvny': '1873',\n",
       " 'hbrpf': '223',\n",
       " 'hdwix': '227',\n",
       " 'hfhql': '409',\n",
       " 'hjawb': '541',\n",
       " 'houwrq': '313',\n",
       " 'hsoe': '859',\n",
       " 'hsq': '1871',\n",
       " 'hufgzv': '1511',\n",
       " 'iehcdg': '1559',\n",
       " 'ik': '359',\n",
       " 'imssly': '593',\n",
       " 'imzhk': '73',\n",
       " 'inyn': '547',\n",
       " 'ipsfk': '857',\n",
       " 'ita': '1483',\n",
       " 'iwbei': '1627',\n",
       " 'izfarzk': '647',\n",
       " 'jbsyam': '1021',\n",
       " 'jclyq': '59',\n",
       " 'jezdkm': '179',\n",
       " 'jiwvyl': '569',\n",
       " 'jkbzk': '1123',\n",
       " 'jklruv': '109',\n",
       " 'jknndf': '1949',\n",
       " 'jmwd': '509',\n",
       " 'jqvdb': '1429',\n",
       " 'jrdx': '1447',\n",
       " 'jxuizf': '1831',\n",
       " 'jztryz': '863',\n",
       " 'kffc': '1163',\n",
       " 'kiznw': '29',\n",
       " 'kmkberp': '173',\n",
       " 'kmmefr': '1523',\n",
       " 'kojou': '433',\n",
       " 'kqvt': '431',\n",
       " 'ksnlr': '1321',\n",
       " 'ktt': '13',\n",
       " 'kufa': '881',\n",
       " 'kzcxj': '691',\n",
       " 'lamxmh': '1097',\n",
       " 'lhnnh': '1277',\n",
       " 'lirxtf': '1481',\n",
       " 'lkhgc': '11',\n",
       " 'lpkot': '751',\n",
       " 'lreha': '163',\n",
       " 'lsnub': '449',\n",
       " 'luyre': '1291',\n",
       " 'lxgmsd': '1571',\n",
       " 'lxuh': '571',\n",
       " 'masdnf': '883',\n",
       " 'mdl': '101',\n",
       " 'mdwqe': '1427',\n",
       " 'mgnoc': '1303',\n",
       " 'mhjdkz': '617',\n",
       " 'monbcr': '1223',\n",
       " 'mpxkzc': '1723',\n",
       " 'mqg': '1069',\n",
       " 'mqoy': '1187',\n",
       " 'mvb': '1597',\n",
       " 'mvq': '1741',\n",
       " 'myaxjrd': '229',\n",
       " 'myoywki': '443',\n",
       " 'nfrqe': '523',\n",
       " 'ngkajj': '1637',\n",
       " 'nktmok': '1879',\n",
       " 'nkvh': '457',\n",
       " 'npig': '479',\n",
       " 'nptm': '1973',\n",
       " 'nsimkr': '1151',\n",
       " 'nubv': '1669',\n",
       " 'nucc': '17',\n",
       " 'nulgr': '1847',\n",
       " 'nympc': '97',\n",
       " 'nz': '743',\n",
       " 'obxgz': '1699',\n",
       " 'odixp': '277',\n",
       " 'oijzv': '197',\n",
       " 'oqmok': '757',\n",
       " 'oqwtdz': '919',\n",
       " 'oukbk': '401',\n",
       " 'ouklpo': '1289',\n",
       " 'ouurrd': '263',\n",
       " 'oywv': '587',\n",
       " 'pdffykq': '241',\n",
       " 'pedcx': '373',\n",
       " 'pfcwgj': '1951',\n",
       " 'pgbmfgd': '1697',\n",
       " 'piluh': '2',\n",
       " 'piqgh': '1279',\n",
       " 'ppmvp': '1531',\n",
       " 'prang': '389',\n",
       " 'ptjjl': '1307',\n",
       " 'ptkny': '307',\n",
       " 'pzurzh': '67',\n",
       " 'qbw': '1033',\n",
       " 'qcntpgqg': '1747',\n",
       " 'qcprx': '1439',\n",
       " 'qeqfz': '1579',\n",
       " 'qibdh': '1361',\n",
       " 'qitrhd': '601',\n",
       " 'qlbj': '929',\n",
       " 'qljdf': '1549',\n",
       " 'qlmpd': '1213',\n",
       " 'qmwdyo': '1913',\n",
       " 'qmxvn': '421',\n",
       " 'qnos': '89',\n",
       " 'qokf': '1499',\n",
       " 'qorh': '557',\n",
       " 'qpcjfn': '113',\n",
       " 'qpxwy': '953',\n",
       " 'qtju': '167',\n",
       " 'quedya': '937',\n",
       " 'qvsmx': '347',\n",
       " 'qws': '967',\n",
       " 'qyht': '1297',\n",
       " 'rapjzj': '337',\n",
       " 'rddrca': '191',\n",
       " 'rdidwmq': '613',\n",
       " 'rjvebv': '1301',\n",
       " 'rkhvr': '5',\n",
       " 'rloxp': '829',\n",
       " 'rnxehg': '1061',\n",
       " 'rpfi': '467',\n",
       " 'rpjns': '1621',\n",
       " 'rpnq': '47',\n",
       " 'rpwzy': '1693',\n",
       " 'rqepui': '1091',\n",
       " 'rrlpj': '1931',\n",
       " 'rsccsy': '1567',\n",
       " 'rsmm': '797',\n",
       " 'rsxkyq': '1093',\n",
       " 'rtmqese': '349',\n",
       " 'runn': '383',\n",
       " 'rvepsq': '53',\n",
       " 'rxkj': '823',\n",
       " 'rysu': '1901',\n",
       " 'rzpqe': '787',\n",
       " 'sayc': '1663',\n",
       " 'sfb': '811',\n",
       " 'sh': '971',\n",
       " 'shpal': '877',\n",
       " 'shpq': '1607',\n",
       " 'sifsr': '1009',\n",
       " 'slfsn': '1063',\n",
       " 'snoxm': '677',\n",
       " 'soeit': '37',\n",
       " 'sofss': '1217',\n",
       " 'sotpmht': '577',\n",
       " 'sozc': '853',\n",
       " 'srti': '1423',\n",
       " 'sswgqn': '1801',\n",
       " 'swjws': '151',\n",
       " 'sxfw': '1249',\n",
       " 'sybsr': '887',\n",
       " 'tabm': '293',\n",
       " 'tgjujn': '1877',\n",
       " 'thzihs': '199',\n",
       " 'tkrt': '977',\n",
       " 'tobt': '727',\n",
       " 'ttmrn': '1129',\n",
       " 'twduz': '43',\n",
       " 'uaqaj': '673',\n",
       " 'ugfsnw': '439',\n",
       " 'ukge': '1609',\n",
       " 'ungekl': '1721',\n",
       " 'urlb': '1583',\n",
       " 'uswhx': '1601',\n",
       " 'uxmbw': '1553',\n",
       " 'vfrgv': '1409',\n",
       " 'vghj': '211',\n",
       " 'vhxfqpq': '599',\n",
       " 'vlkjlj': '367',\n",
       " 'vnkrq': '701',\n",
       " 'vrzrk': '379',\n",
       " 'vsmy': '1667',\n",
       " 'vwepv': '521',\n",
       " 'vxl': '139',\n",
       " 'wclgj': '941',\n",
       " 'wiqm': '1471',\n",
       " 'wllh': '1783',\n",
       " 'wpnyr': '661',\n",
       " 'wpykc': '3',\n",
       " 'wrhaew': '1319',\n",
       " 'wtkz': '19',\n",
       " 'wtlxxr': '653',\n",
       " 'wunah': '23',\n",
       " 'wxbwt': '659',\n",
       " 'wxwcw': '1283',\n",
       " 'wzf': '1789',\n",
       " 'wziq': '181',\n",
       " 'xcute': '1367',\n",
       " 'xdgty': '1709',\n",
       " 'xiqkhbn': '997',\n",
       " 'xni': '1979',\n",
       " 'xrnaq': '1787',\n",
       " 'xtuqm': '1987',\n",
       " 'xvoblu': '463',\n",
       " 'xyix': '1031',\n",
       " 'xyqsh': '1753',\n",
       " 'xzoio': '1181',\n",
       " 'yaxbh': '631',\n",
       " 'yehlh': '1399',\n",
       " 'yerlz': '607',\n",
       " 'yjtei': '827',\n",
       " 'ylbl': '499',\n",
       " 'yqyv': '1103',\n",
       " 'yrbqj': '239',\n",
       " 'yxbytz': '1777',\n",
       " 'yylexr': '733',\n",
       " 'zfvnhpm': '233',\n",
       " 'zjpleh': '947',\n",
       " 'znhw': '1051',\n",
       " 'zokmvm': '1153',\n",
       " 'zokrz': '643',\n",
       " 'zpjwv': '257',\n",
       " 'zqpv': '1487',\n",
       " 'ztninb': '1613',\n",
       " 'zuechb': '1933'}"
      ]
     },
     "execution_count": 113,
     "metadata": {},
     "output_type": "execute_result"
    }
   ],
   "source": [
    "indx"
   ]
  },
  {
   "cell_type": "markdown",
   "metadata": {},
   "source": [
    "# Performance against number of comments to search"
   ]
  },
  {
   "cell_type": "code",
   "execution_count": 114,
   "metadata": {
    "collapsed": false
   },
   "outputs": [
    {
     "data": {
      "image/png": "[encoded data removed]",
      "text/plain": [
       "<matplotlib.figure.Figure at 0x10e656128>"
      ]
     },
     "metadata": {},
     "output_type": "display_data"
    }
   ],
   "source": [
    "stringCompTimings = []\n",
    "primeTimings = []\n",
    "for n in range(100,100000,1000):\n",
    "    [o,t] = timeFunction(numberOfMatches, c[:n], wordsToserachFor)\n",
    "    stringCompTimings.append(t)\n",
    "    \n",
    "    [o,t] = timeFunction(findCommentsUsingPrimeFact, indxCom[:n],indx, wordsToserachFor)\n",
    "    primeTimings.append(t)\n",
    "plt.figure()\n",
    "plt.plot(stringCompTimings)\n",
    "plt.plot(primeTimings)\n",
    "plt.show()"
   ]
  },
  {
   "cell_type": "markdown",
   "metadata": {},
   "source": [
    "# Performance against number of words searched for"
   ]
  },
  {
   "cell_type": "code",
   "execution_count": 117,
   "metadata": {
    "collapsed": false
   },
   "outputs": [
    {
     "data": {
      "image/png": "[encoded data removed]",
      "text/plain": [
       "<matplotlib.figure.Figure at 0x10e6f1320>"
      ]
     },
     "metadata": {},
     "output_type": "display_data"
    }
   ],
   "source": [
    "stringCompTimings = []\n",
    "primeTimings = []\n",
    "for n in range(1,100):\n",
    "    randWords = pickRandomWordsFromDict(d,2,7,n)\n",
    "    [o,t] = timeFunction(numberOfMatches, c[:100000], randWords)\n",
    "    stringCompTimings.append(t)\n",
    "    \n",
    "    [o,t] = timeFunction(findCommentsUsingPrimeFact, indxCom[:10000],indx, randWords)\n",
    "    primeTimings.append(t)\n",
    "plt.figure()\n",
    "plt.plot(stringCompTimings)\n",
    "plt.plot(primeTimings)\n",
    "plt.show()"
   ]
  },
  {
   "cell_type": "markdown",
   "metadata": {},
   "source": [
    "# Performance against length of comments to serach through"
   ]
  },
  {
   "cell_type": "code",
   "execution_count": 123,
   "metadata": {
    "collapsed": false
   },
   "outputs": [
    {
     "data": {
      "image/png": "[encoded data removed]",
      "text/plain": [
       "<matplotlib.figure.Figure at 0x11454fb70>"
      ]
     },
     "metadata": {},
     "output_type": "display_data"
    }
   ],
   "source": [
    "stringCompTimings = []\n",
    "primeTimings = []\n",
    "for n in range(5,400,100):\n",
    "    [dl,cl] = generateCommentData(30,10000,n,1)\n",
    "    randWords = pickRandomWordsFromDict(dl,2,7,4)\n",
    "    \n",
    "    [o,t] = timeFunction(numberOfMatches, cl, randWords)\n",
    "    stringCompTimings.append(t)\n",
    "    \n",
    "    [indexSchemal, indxComl] = preprocessPrimeComments(dl,cl)\n",
    "    [o,t] = timeFunction(findCommentsUsingPrimeFact, indxComl,indexSchemal, randWords)\n",
    "    primeTimings.append(t)\n",
    "plt.figure()\n",
    "plt.plot(stringCompTimings)\n",
    "plt.plot(primeTimings)\n",
    "plt.show()"
   ]
  },
  {
   "cell_type": "code",
   "execution_count": 131,
   "metadata": {
    "collapsed": false
   },
   "outputs": [
    {
     "data": {
      "text/plain": [
       "[20.725552050473187, 29.26459069634158, 31.59192669794389, 35.90168395112435]"
      ]
     },
     "execution_count": 131,
     "metadata": {},
     "output_type": "execute_result"
    }
   ],
   "source": [
    "d = list(map(lambda a,b:a/b,stringCompTimings,primeTimings))\n",
    "d"
   ]
  },
  {
   "cell_type": "code",
   "execution_count": 125,
   "metadata": {
    "collapsed": false
   },
   "outputs": [
    {
     "data": {
      "text/plain": [
       "[0.0007557868957519531,\n",
       " 0.004992008209228516,\n",
       " 0.0075719356536865234,\n",
       " 0.009287834167480469]"
      ]
     },
     "execution_count": 125,
     "metadata": {},
     "output_type": "execute_result"
    }
   ],
   "source": [
    "primeTimings"
   ]
  },
  {
   "cell_type": "markdown",
   "metadata": {},
   "source": [
    "# Performance against length of dictionary"
   ]
  },
  {
   "cell_type": "code",
   "execution_count": 133,
   "metadata": {
    "collapsed": false
   },
   "outputs": [
    {
     "data": {
      "image/png": "[encoded data removed]",
      "text/plain": [
       "<matplotlib.figure.Figure at 0x113dc9dd8>"
      ]
     },
     "metadata": {},
     "output_type": "display_data"
    }
   ],
   "source": [
    "stringCompTimings = []\n",
    "primeTimings = []\n",
    "for n in range(5,1000,100):\n",
    "    [dl,cl] = generateCommentData(n,10000,10,1)\n",
    "    randWords = pickRandomWordsFromDict(dl,2,7,4)\n",
    "    \n",
    "    [o,t] = timeFunction(numberOfMatches, cl, randWords)\n",
    "    stringCompTimings.append(t)\n",
    "    \n",
    "    [indexSchemal, indxComl] = preprocessPrimeComments(dl,cl)\n",
    "    [o,t] = timeFunction(findCommentsUsingPrimeFact, indxComl,indexSchemal, randWords)\n",
    "    primeTimings.append(t)\n",
    "plt.figure()\n",
    "plt.plot(stringCompTimings)\n",
    "plt.plot(primeTimings)\n",
    "plt.show()"
   ]
  },
  {
   "cell_type": "code",
   "execution_count": null,
   "metadata": {
    "collapsed": true
   },
   "outputs": [],
   "source": []
  }
 ],
 "metadata": {
  "kernelspec": {
   "display_name": "Python 3",
   "language": "python",
   "name": "python3"
  },
  "language_info": {
   "codemirror_mode": {
    "name": "ipython",
    "version": 3
   },
   "file_extension": ".py",
   "mimetype": "text/x-python",
   "name": "python",
   "nbconvert_exporter": "python",
   "pygments_lexer": "ipython3",
   "version": "3.5.2"
  }
 },
 "nbformat": 4,
 "nbformat_minor": 0
}
