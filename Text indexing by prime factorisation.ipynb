{
 "cells": [
  {
   "cell_type": "markdown",
   "metadata": {},
   "source": [
    "# Text search/indexing using prime number factorisation\n",
    "---\n",
    "## Abstract\n",
    "This report details the proof of consecpt for using prime numbersfor indexing text with th eintention of seraching for words within a data set. This technique is shown to segnificaltly out perform regular string comparison in all the aspect that were tested i.e number of records, lengths of records, length of dictionary, and number of words searched for.\n",
    "\n",
    "The targeted usecase for this algorithm is in exploratary text analysis by finding the fequency that specific word combinations appear together within the same text record.\n",
    "\n",
    "---\n",
    "\n",
    "## Background knowledge\n",
    "This techique untilises the knowledge described by the unique-prime-factorization theorem where it is understood that every integer greater than 1 can be broken down into a unique list of its prime factors. \n",
    "\n",
    "---\n",
    "\n",
    "## Technique method\n",
    "\n",
    "The process is broken down into preprocessing and searching:\n",
    "\n",
    "#### Preprocessing\n",
    "* Defining the dictionary of the data set\n",
    "* Index the dinctionary by storing a unique prime number for each word in the dictionary\n",
    "* Index the text records by storing the product of th eprime numbers that make up each text record\n",
    "\n",
    "#### Searching\n",
    "* Fetch the unique prime number of the word to serach for from the indexed dictionary\n",
    "* Find the modulo of each indexed text record against the value of the indexed word being serached for\n",
    "* If the modulo calculation equals 0 then the serach word exists in that record\n",
    "\n",
    "#### Example\n",
    "\n",
    "Take the data set of text:\n",
    "\n",
    "* \"black cat on mat\",\n",
    "* \"black hat for you\",\n",
    "* \"cat sat on you\"\n",
    "\n",
    "The dictionary of this data set is:\n",
    "\n",
    "* \"black\",\n",
    "* \"cat\",\n",
    "* \"on\",\n",
    "* \"mat\",\n",
    "* \"hat\",\n",
    "* \"for\",\n",
    "* \"you\",\n",
    "* \"sat\"\n",
    "\n",
    "Now assign prime number to each word in dictionary:\n",
    "\n",
    "* \"black\": 2,\n",
    "* \"cat\"  : 3,\n",
    "* \"on\"   : 5,\n",
    "* \"mat\"  : 7,\n",
    "* \"hat\"  : 11,\n",
    "* \"for\"  : 13,\n",
    "* \"you\"  : 17,\n",
    "* \"sat\"  : 19\n",
    "\n",
    "Now turn each text record into the product of its prime numbers:\n",
    "\n",
    "* \"black cat on mat\" = \"black(2) cat(3) on(5) mat(7)\" = 2 x 3 x 5 x 7 = **210**\n",
    "* \"black hat for you\" = black(2) hat(11) for(13) you(17) = 2 x 11 x 13 x 17 = **4862**\n",
    "* \"cat sat on you\" = \"cat(3) sat(19) on(5) you(17)\" = 3 x 19 x 5 x 17 = **4845**\n",
    "\n",
    "Now the indexed data set is:\n",
    "\n",
    "* 210,\n",
    "* 4862,\n",
    "* 4845\n",
    "\n",
    "To search for the word **\"sat\"**(prime equvilant 19) in the data set we calculate the modulo of its equvilate prime across the data set and where the result is '0' the word exists within that text record:\n",
    "\n",
    "* 210 % 19 = 1 (**not a factor**)\n",
    "* 4862 % 19 = 17 (**not a factor**)\n",
    "* 4845 % 19 = 0 (**is a factor** \"cat **sat** on you\")\n",
    "\n",
    "Another example, search for **\"you\"** (prime equivilant 17):\n",
    "\n",
    "* 210 % 17 = 6 (**not a factor**)\n",
    "* 4862 % 17 = 0 (**is a factor** \"black hat for **you**\")\n",
    "* 4845 % 17 = 0 (**is a factor** \"cat sat on **you**\")\n",
    "\n",
    "#### Searching for multiple words\n",
    "\n",
    "Becuase of the associative property of factors, to serach for multiple words you do the same as before except calculate the modulo using the product of the words that you are seraching for:\n",
    "\n",
    "Examples:\n",
    "\n",
    "---\n",
    "\n",
    "Search for \"you\" and \"cat\"\n",
    "\n",
    "\"you\"(17) x \"cat\"(3) = 51\n",
    "\n",
    "* 210 % 51 = 0 (**is a factor** \"black **cat** **on** mat\")\n",
    "* 4862 % 51 = 2 (**not a factor**)\n",
    "* 4845 % 51 = 0 (**is a factor** \"**cat** sat **on** you\")\n",
    "\n",
    "---\n",
    "\n",
    "Search for \"cat\" and \"on\"\n",
    "\n",
    "\"cat\"(3) x \"on\"(5) = 15\n",
    "\n",
    "* 210 % 15 = 0 (**is a factor** \"black **cat** **on** mat\")\n",
    "* 4862 % 15 = 2 (**not a factor**)\n",
    "* 4845 % 15 = 0 (**is a factor** \"**cat** sat on **you**\")\n",
    "\n",
    "---\n",
    "\n",
    "Search for \"black\", \"hat\" and \"you\"\n",
    "\n",
    "\"black\"(2) x \"hat\"(11) x you(17) = 374\n",
    "\n",
    "* 210 % 374 = 210 (**not a factor**)\n",
    "* 4862 % 374 = 0 (**is a factor** \"**black** **hat** for **you**\")\n",
    "* 4845 % 374 = 231 (**not a factor**)"
   ]
  },
  {
   "cell_type": "markdown",
   "metadata": {},
   "source": [
    "---\n",
    "# Implimentation and testing\n",
    "This section shows an implimentation of the technique along side a standard string comparision implimentation with performance camapaisons made between the two techniques.\n",
    "\n",
    "Steps in this section are:\n",
    "1. Generate synthetic data set to test with\n",
    "2. Impliment standard string comparision serach functions\n",
    "3. Impliment prime factorisation index/serach function\n",
    "4. Compare performance"
   ]
  },
  {
   "cell_type": "code",
   "execution_count": 1,
   "metadata": {
    "collapsed": true
   },
   "outputs": [],
   "source": [
    "%matplotlib inline"
   ]
  },
  {
   "cell_type": "code",
   "execution_count": 2,
   "metadata": {
    "collapsed": true
   },
   "outputs": [],
   "source": [
    "import random\n",
    "import time\n",
    "import copy\n",
    "import numpy as np\n",
    "import numpy.core.defchararray as npstr\n",
    "import matplotlib.pyplot as plt"
   ]
  },
  {
   "cell_type": "markdown",
   "metadata": {},
   "source": [
    "---\n",
    "## Synthetic test data generation\n",
    "First step is developing convienent functions that allow for control over different varibles concerning the data set. This makes comparing performance more informative and reproducable."
   ]
  },
  {
   "cell_type": "code",
   "execution_count": 3,
   "metadata": {
    "collapsed": true
   },
   "outputs": [],
   "source": [
    "# generates a random string of letters for a given length\n",
    "\n",
    "def generateWord(length):\n",
    "    abc = 'abcdefghijklmnopqrstuvwxyz'\n",
    "    word = ''\n",
    "    for i in range(length):\n",
    "        word += random.choice(abc)\n",
    "    return word"
   ]
  },
  {
   "cell_type": "code",
   "execution_count": 54,
   "metadata": {
    "collapsed": true
   },
   "outputs": [],
   "source": [
    "# generates a normally distributed list of numbers with a given length, mean and diviation\n",
    "\n",
    "def generateLengths(count,mean, dist, showGraph = False):\n",
    "    s = np.random.normal(mean, dist, count)\n",
    "    s = np.round(s,0).astype(int)\n",
    "    lessThanOne = s < 1\n",
    "    s[lessThanOne] = 1\n",
    "    if showGraph:\n",
    "        plt.hist(s, 30, normed=True)\n",
    "        plt.title(\"Histogram of lengths\")\n",
    "        plt.show()\n",
    "    return s"
   ]
  },
  {
   "cell_type": "code",
   "execution_count": 5,
   "metadata": {
    "collapsed": true
   },
   "outputs": [],
   "source": [
    "# generates a random dictionary of words whose lengths are normally distributed\n",
    "\n",
    "def generateDictionary(count):\n",
    "    currentDict = []\n",
    "    wordLengths = generateLengths(count,5,1)\n",
    "    for length in wordLengths:\n",
    "        oldLen = len(currentDict)\n",
    "        while(len(currentDict) == oldLen):\n",
    "            word = generateWord(length)\n",
    "            if word not in currentDict:\n",
    "                currentDict.append(word)  \n",
    "    return np.asarray(currentDict)"
   ]
  },
  {
   "cell_type": "code",
   "execution_count": 58,
   "metadata": {
    "collapsed": false
   },
   "outputs": [],
   "source": [
    "# Selects random words from a given dictionary that matches given length requirments\n",
    "\n",
    "def pickRandomWordsFromDict(dictionary, minLength, maxLength, count):\n",
    "    output = []\n",
    "    for word in dictionary:\n",
    "        if maxLength >= len(word) >= minLength:\n",
    "            output.append(word)\n",
    "            if len(output)==count:\n",
    "                return output\n",
    "    return ValueError('Dictionary did not conatin enough word of your min length')\n",
    "    "
   ]
  },
  {
   "cell_type": "code",
   "execution_count": 6,
   "metadata": {
    "collapsed": false
   },
   "outputs": [],
   "source": [
    "# generates a list of randomy generated strings of text made of of words from a given dictionary\n",
    "# and where the number of words used in the text are normally distributed to a given mean and diviation\n",
    "\n",
    "def generateComments(count,dictionary,mean,dist,showGraph = False):\n",
    "    comments = []\n",
    "    lengths = generateLengths(count,mean,dist,showGraph) \n",
    "    for length in lengths:\n",
    "        comment = ''\n",
    "        for i in range(length):\n",
    "            comment += random.choice(dictionary) + ' '\n",
    "        comments.append(comment.rstrip())\n",
    "    return np.asarray(comments)"
   ]
  },
  {
   "cell_type": "markdown",
   "metadata": {},
   "source": [
    "## Testing syntehtic data functions"
   ]
  },
  {
   "cell_type": "code",
   "execution_count": 69,
   "metadata": {
    "collapsed": false
   },
   "outputs": [
    {
     "data": {
      "text/plain": [
       "'cwk'"
      ]
     },
     "execution_count": 69,
     "metadata": {},
     "output_type": "execute_result"
    }
   ],
   "source": [
    "generateWord(3)"
   ]
  },
  {
   "cell_type": "code",
   "execution_count": 70,
   "metadata": {
    "collapsed": false
   },
   "outputs": [
    {
     "data": {
      "image/png": "[encoded data removed]",
      "text/plain": [
       "<matplotlib.figure.Figure at 0x10d9a2e10>"
      ]
     },
     "metadata": {},
     "output_type": "display_data"
    },
    {
     "data": {
      "text/plain": [
       "array([5, 7, 5, 5, 5, 6, 4, 6, 5, 4, 6, 5, 6, 7, 5, 5, 5, 5, 7, 5, 2, 5, 6,\n",
       "       5, 6, 5, 7, 6, 6, 5, 4, 6, 3, 5, 6, 6, 5, 4, 5, 6, 6, 5, 3, 8, 5, 4,\n",
       "       5, 5, 5, 4, 5, 5, 6, 5, 5, 5, 5, 5, 5, 6, 7, 5, 5, 6, 3, 4, 6, 6, 4,\n",
       "       5, 4, 6, 5, 6, 4, 4, 6, 5, 6, 4, 5, 2, 5, 4, 4, 6, 4, 4, 5, 6, 6, 4,\n",
       "       5, 5, 6, 7, 6, 5, 4, 6])"
      ]
     },
     "execution_count": 70,
     "metadata": {},
     "output_type": "execute_result"
    }
   ],
   "source": [
    "generateLengths(100,5,1,True)"
   ]
  },
  {
   "cell_type": "code",
   "execution_count": 91,
   "metadata": {
    "collapsed": false
   },
   "outputs": [
    {
     "data": {
      "text/plain": [
       "array(['mgbbas', 'wgmowl', 'qarlmj', 'abvgr'], \n",
       "      dtype='<U7')"
      ]
     },
     "execution_count": 91,
     "metadata": {},
     "output_type": "execute_result"
    }
   ],
   "source": [
    "dictionary = generateDictionary(100)\n",
    "dictionary [1:5]"
   ]
  },
  {
   "cell_type": "code",
   "execution_count": 92,
   "metadata": {
    "collapsed": false
   },
   "outputs": [
    {
     "data": {
      "text/plain": [
       "['kszg', 'mgbbas', 'wgmowl']"
      ]
     },
     "execution_count": 92,
     "metadata": {},
     "output_type": "execute_result"
    }
   ],
   "source": [
    "pickRandomWordsFromDict(dictionary,3,8,3)"
   ]
  },
  {
   "cell_type": "code",
   "execution_count": 97,
   "metadata": {
    "collapsed": false
   },
   "outputs": [
    {
     "data": {
      "image/png": "[encoded data removed]",
      "text/plain": [
       "<matplotlib.figure.Figure at 0x10e28b240>"
      ]
     },
     "metadata": {},
     "output_type": "display_data"
    },
    {
     "data": {
      "text/plain": [
       "array(['kexic abvgr uawrlh', 'gsjzo syiht qzr lnxfo pusnf',\n",
       "       'glvmt xezoq tofoe cezvzmf wlfwt', 'jjcth iarc frvru'], \n",
       "      dtype='<U55')"
      ]
     },
     "execution_count": 97,
     "metadata": {},
     "output_type": "execute_result"
    }
   ],
   "source": [
    "comments = generateComments(1000000,dictionary,4,1,True)\n",
    "comments[1:5]"
   ]
  },
  {
   "cell_type": "markdown",
   "metadata": {},
   "source": [
    "---\n",
    "# Implimenting word search using string comparison"
   ]
  },
  {
   "cell_type": "code",
   "execution_count": 106,
   "metadata": {
    "collapsed": false
   },
   "outputs": [],
   "source": [
    "# Finds records that conatin specific words using numpy's string comparitor function\n",
    "\n",
    "def findCommentsWithWords(comments,words):\n",
    "    currentVocab = copy.deepcopy(comments)\n",
    "    for w in words:\n",
    "        currentVocab = currentVocab[(npstr.find(currentVocab, w) != -1)]\n",
    "    return currentVocab"
   ]
  },
  {
   "cell_type": "code",
   "execution_count": 107,
   "metadata": {
    "collapsed": true
   },
   "outputs": [],
   "source": [
    "#Returns number of records that contain specific words\n",
    "\n",
    "def numberOfMatches(comments, words):\n",
    "    result = findCommentsWithWords(comments,words)\n",
    "    return len(result)"
   ]
  },
  {
   "cell_type": "markdown",
   "metadata": {},
   "source": [
    "### Test speed of finding number of records with specific words"
   ]
  },
  {
   "cell_type": "code",
   "execution_count": 99,
   "metadata": {
    "collapsed": false
   },
   "outputs": [
    {
     "data": {
      "text/plain": [
       "['kszg', 'mgbbas']"
      ]
     },
     "execution_count": 99,
     "metadata": {},
     "output_type": "execute_result"
    }
   ],
   "source": [
    "randoWords =  pickRandomWordsFromDict(dictionary,3,8,2)\n",
    "randoWords"
   ]
  },
  {
   "cell_type": "code",
   "execution_count": 103,
   "metadata": {
    "collapsed": false
   },
   "outputs": [
    {
     "name": "stdout",
     "output_type": "stream",
     "text": [
      "1315 number of records found containing ['kszg', 'mgbbas']\n",
      "1.1351401805877686 seconds\n"
     ]
    }
   ],
   "source": [
    "start = time.time()\n",
    "print(str(numberOfMatches(comments,randoWords)) + ' number of records found containing ' + str(randoWords))\n",
    "end = time.time()\n",
    "print(str(end - start)+' seconds')"
   ]
  },
  {
   "cell_type": "markdown",
   "metadata": {},
   "source": [
    "---\n",
    "# Implimenting word indexing/search by prime factorisation"
   ]
  },
  {
   "cell_type": "markdown",
   "metadata": {},
   "source": [
    "### Preprocessing/Indexing\n"
   ]
  },
  {
   "cell_type": "code",
   "execution_count": 128,
   "metadata": {
    "collapsed": false
   },
   "outputs": [],
   "source": [
    "# Assigns a prime number to each word in a given dictionary and returns a dict object \n",
    "\n",
    "def createIndexSchema(dictionary):\n",
    "    primes = np.genfromtxt ('primes.csv', delimiter=\",\").astype(int)\n",
    "    primeFit = primes[1:len(dictionary)+1,1]\n",
    "    index = dict(np.c_[dictionary,primeFit])\n",
    "    return index"
   ]
  },
  {
   "cell_type": "code",
   "execution_count": 129,
   "metadata": {
    "collapsed": false
   },
   "outputs": [],
   "source": [
    "# Converts a list of strings into the products of the words in the string's prime number indexes\n",
    "\n",
    "def indexComments(comments,indexSchemal):\n",
    "    output = []\n",
    "    for comment in comments:\n",
    "        prod = 1\n",
    "        words = comment.split(' ')\n",
    "        for word in words:\n",
    "            if word in indexSchemal:\n",
    "                prod *= int(indexSchemal[word])\n",
    "        output.append(prod)\n",
    "    return output"
   ]
  },
  {
   "cell_type": "code",
   "execution_count": 130,
   "metadata": {
    "collapsed": true
   },
   "outputs": [],
   "source": [
    "# Return the indexed dictionary and text data for a given normal dictionary of words and list of text data\n",
    "\n",
    "def preprocessPrimeComments(dictionary,comments):\n",
    "    indexSchemal = createIndexSchema(dictionary)\n",
    "    indexedComments = indexComments(comments,indexSchemal)\n",
    "    return [indexSchemal,indexedComments]"
   ]
  },
  {
   "cell_type": "markdown",
   "metadata": {},
   "source": [
    "### Searching"
   ]
  },
  {
   "cell_type": "code",
   "execution_count": 131,
   "metadata": {
    "collapsed": true
   },
   "outputs": [],
   "source": [
    "# converts given words into their indexed product\n",
    "\n",
    "def convertWordsToProduct(indexSchema, words):\n",
    "    output = 1\n",
    "    for word in words:\n",
    "        output *= int(indexSchema[word])\n",
    "    return output"
   ]
  },
  {
   "cell_type": "code",
   "execution_count": 132,
   "metadata": {
    "collapsed": true
   },
   "outputs": [],
   "source": [
    "# calculates the modulo of the indexed text data against the given search word product \n",
    "# and return a boolean list of which records match the search\n",
    "\n",
    "def searchByPrimeFact(indexedComments,serachProduct):\n",
    "    return  (np.mod(indexedComments, serachProduct) == 0)"
   ]
  },
  {
   "cell_type": "code",
   "execution_count": 136,
   "metadata": {
    "collapsed": false
   },
   "outputs": [],
   "source": [
    "# returns a boolean list of which of the given indexed records conatain \n",
    "# the given words using the given indexed dictionary\n",
    "\n",
    "def findCommentsUsingPrimeFact(indexedComments,index, words):\n",
    "    prod = convertWordsToProduct(index, words)\n",
    "    return searchByPrimeFact(indexedComments,prod)"
   ]
  },
  {
   "cell_type": "markdown",
   "metadata": {},
   "source": [
    "### Test speed of finding numberof records with specific words"
   ]
  },
  {
   "cell_type": "code",
   "execution_count": 137,
   "metadata": {
    "collapsed": false
   },
   "outputs": [],
   "source": [
    "[index, indexedComments] = preprocessPrimeComments(dictionary,comments)"
   ]
  },
  {
   "cell_type": "code",
   "execution_count": 152,
   "metadata": {
    "collapsed": false
   },
   "outputs": [
    {
     "name": "stdout",
     "output_type": "stream",
     "text": [
      "1315 number of records found containing ['kszg', 'mgbbas']\n",
      "0.15681910514831543 seconds\n"
     ]
    }
   ],
   "source": [
    "start = time.time()\n",
    "print(str(findCommentsUsingPrimeFact(indexedComments,index,randoWords).sum())+ ' number of records found containing ' + str(randoWords) )\n",
    "end = time.time()\n",
    "print(str(end - start)+' seconds')"
   ]
  },
  {
   "cell_type": "markdown",
   "metadata": {},
   "source": [
    "---\n",
    "# Compare Performance\n",
    "The different varibles that will be tested are: \n",
    "\n",
    "* Number of comments\n",
    "* Number of query words\n",
    "* Length of comments\n",
    "* Dictionary length\n"
   ]
  },
  {
   "cell_type": "code",
   "execution_count": 153,
   "metadata": {
    "collapsed": true
   },
   "outputs": [],
   "source": [
    "# times the execution fo a function returning the seconds it took and the output of the function\n",
    "\n",
    "def timeFunction(func, *params):\n",
    "    start = time.time()\n",
    "    output = func(*params)\n",
    "    end = time.time()\n",
    "    return[output, (end - start)]"
   ]
  },
  {
   "cell_type": "code",
   "execution_count": 154,
   "metadata": {
    "collapsed": true
   },
   "outputs": [],
   "source": [
    "# generate text records using the previously defined synthetic data function\n",
    "\n",
    "def generateCommentData(dictLength, numOfComments, commentLengthMean, commentLengthDist, graph = False):\n",
    "    random.seed(50)\n",
    "    np.random.seed(15)\n",
    "    dictionary = generateDictionary(dictLength)\n",
    "    comments = generateComments(numOfComments,dictionary,commentLengthMean,commentLengthDist,graph)\n",
    "    return [dictionary, comments]"
   ]
  },
  {
   "cell_type": "code",
   "execution_count": 155,
   "metadata": {
    "collapsed": false,
    "scrolled": true
   },
   "outputs": [
    {
     "data": {
      "image/png": "[encoded data removed]",
      "text/plain": [
       "<matplotlib.figure.Figure at 0x110bec048>"
      ]
     },
     "metadata": {},
     "output_type": "display_data"
    }
   ],
   "source": [
    "[d,c] = generateCommentData(300,100000,7,1, True)"
   ]
  },
  {
   "cell_type": "markdown",
   "metadata": {},
   "source": [
    "# Performance against number of comments to search"
   ]
  },
  {
   "cell_type": "code",
   "execution_count": 168,
   "metadata": {
    "collapsed": false
   },
   "outputs": [],
   "source": [
    "[d,c] = generateCommentData(300,100000,7,1, False)\n",
    "wordsToserachFor = pickRandomWordsFromDict(d,3,7,3)\n",
    "[indx,indxCom] = preprocessPrimeComments(d,c)\n",
    "\n",
    "stringCompTimings = []\n",
    "primeTimings = []\n",
    "xIncrement = []\n",
    "for n in range(100,100000,1000):\n",
    "    xIncrement.append(n)\n",
    "    \n",
    "    [o,t] = timeFunction(numberOfMatches, c[:n], wordsToserachFor)\n",
    "    stringCompTimings.append(t)\n",
    "    \n",
    "    [o,t] = timeFunction(findCommentsUsingPrimeFact, indxCom[:n],indx, wordsToserachFor)\n",
    "    primeTimings.append(t)"
   ]
  },
  {
   "cell_type": "code",
   "execution_count": 173,
   "metadata": {
    "collapsed": false
   },
   "outputs": [
    {
     "data": {
      "image/png": "[encoded data removed]",
      "text/plain": [
       "<matplotlib.figure.Figure at 0x111480978>"
      ]
     },
     "metadata": {},
     "output_type": "display_data"
    }
   ],
   "source": [
    "plt.figure()\n",
    "plt.ylabel(\"Time taken (seconds)\")\n",
    "plt.xlabel(\"Number of comments to search\")\n",
    "strCompPlot, = plt.plot(xIncrement,stringCompTimings, label=\"String Compare\")\n",
    "primeFactPlot, = plt.plot(xIncrement,primeTimings, label=\"Prime Factorisation\")\n",
    "plt.legend(handles=[strCompPlot,primeFactPlot])\n",
    "plt.show()"
   ]
  },
  {
   "cell_type": "markdown",
   "metadata": {},
   "source": [
    "# Performance against number of words searched for"
   ]
  },
  {
   "cell_type": "code",
   "execution_count": 36,
   "metadata": {
    "collapsed": false
   },
   "outputs": [
    {
     "data": {
      "image/png": "[encoded data removed]",
      "text/plain": [
       "<matplotlib.figure.Figure at 0x10d96bfd0>"
      ]
     },
     "metadata": {},
     "output_type": "display_data"
    }
   ],
   "source": [
    "stringCompTimings = []\n",
    "primeTimings = []\n",
    "for n in range(1,100):\n",
    "    randWords = pickRandomWordsFromDict(d,2,7,n)\n",
    "    [o,t] = timeFunction(numberOfMatches, c[:100000], randWords)\n",
    "    stringCompTimings.append(t)\n",
    "    \n",
    "    [o,t] = timeFunction(findCommentsUsingPrimeFact, indxCom[:10000],indx, randWords)\n",
    "    primeTimings.append(t)\n",
    "plt.figure()\n",
    "plt.plot(stringCompTimings)\n",
    "plt.plot(primeTimings)\n",
    "plt.show()"
   ]
  },
  {
   "cell_type": "markdown",
   "metadata": {},
   "source": [
    "# Performance against length of comments to serach through"
   ]
  },
  {
   "cell_type": "code",
   "execution_count": 42,
   "metadata": {
    "collapsed": false
   },
   "outputs": [
    {
     "data": {
      "image/png": "[encoded data removed]",
      "text/plain": [
       "<matplotlib.figure.Figure at 0x11121f0f0>"
      ]
     },
     "metadata": {},
     "output_type": "display_data"
    }
   ],
   "source": [
    "stringCompTimings = []\n",
    "primeTimings = []\n",
    "for n in range(5,500,10):\n",
    "    [dl,cl] = generateCommentData(30,1000,n,1)\n",
    "    randWords = pickRandomWordsFromDict(dl,2,7,4)\n",
    "    \n",
    "    [o,t] = timeFunction(numberOfMatches, cl, randWords)\n",
    "    stringCompTimings.append(t)\n",
    "    \n",
    "    [indexSchemal, indxComl] = preprocessPrimeComments(dl,cl)\n",
    "    [o,t] = timeFunction(findCommentsUsingPrimeFact, indxComl,indexSchemal, randWords)\n",
    "    primeTimings.append(t)\n",
    "plt.figure()\n",
    "plt.plot(stringCompTimings)\n",
    "plt.plot(primeTimings)\n",
    "plt.show()"
   ]
  },
  {
   "cell_type": "code",
   "execution_count": 38,
   "metadata": {
    "collapsed": false
   },
   "outputs": [
    {
     "data": {
      "text/plain": [
       "[17.184866723989682, 26.318216789194736, 36.65258132956153, 33.79054804198628]"
      ]
     },
     "execution_count": 38,
     "metadata": {},
     "output_type": "execute_result"
    }
   ],
   "source": [
    "d = list(map(lambda a,b:a/b,stringCompTimings,primeTimings))\n",
    "d"
   ]
  },
  {
   "cell_type": "code",
   "execution_count": 39,
   "metadata": {
    "collapsed": false
   },
   "outputs": [
    {
     "data": {
      "text/plain": [
       "[0.0008318424224853516,\n",
       " 0.005578041076660156,\n",
       " 0.008090972900390625,\n",
       " 0.009449005126953125]"
      ]
     },
     "execution_count": 39,
     "metadata": {},
     "output_type": "execute_result"
    }
   ],
   "source": [
    "primeTimings"
   ]
  },
  {
   "cell_type": "markdown",
   "metadata": {},
   "source": [
    "# Performance against length of dictionary"
   ]
  },
  {
   "cell_type": "code",
   "execution_count": 45,
   "metadata": {
    "collapsed": false
   },
   "outputs": [
    {
     "data": {
      "image/png": "[encoded data removed]",
      "text/plain": [
       "<matplotlib.figure.Figure at 0x1115a79e8>"
      ]
     },
     "metadata": {},
     "output_type": "display_data"
    }
   ],
   "source": [
    "stringCompTimings = []\n",
    "primeTimings = []\n",
    "for n in range(10,1000,10):\n",
    "    [dl,cl] = generateCommentData(n,1000,10,1)\n",
    "    randWords = pickRandomWordsFromDict(dl,2,7,4)\n",
    "    \n",
    "    [o,t] = timeFunction(numberOfMatches, cl, randWords)\n",
    "    stringCompTimings.append(t)\n",
    "    \n",
    "    [indexSchemal, indxComl] = preprocessPrimeComments(dl,cl)\n",
    "    [o,t] = timeFunction(findCommentsUsingPrimeFact, indxComl,indexSchemal, randWords)\n",
    "    primeTimings.append(t)\n",
    "plt.figure()\n",
    "plt.plot(stringCompTimings)\n",
    "plt.plot(primeTimings)\n",
    "plt.show()"
   ]
  },
  {
   "cell_type": "code",
   "execution_count": null,
   "metadata": {
    "collapsed": true
   },
   "outputs": [],
   "source": []
  }
 ],
 "metadata": {
  "kernelspec": {
   "display_name": "Python 3",
   "language": "python",
   "name": "python3"
  },
  "language_info": {
   "codemirror_mode": {
    "name": "ipython",
    "version": 3
   },
   "file_extension": ".py",
   "mimetype": "text/x-python",
   "name": "python",
   "nbconvert_exporter": "python",
   "pygments_lexer": "ipython3",
   "version": "3.5.2"
  }
 },
 "nbformat": 4,
 "nbformat_minor": 0
}
