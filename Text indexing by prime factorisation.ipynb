{
 "cells": [
  {
   "cell_type": "code",
   "execution_count": 1,
   "metadata": {
    "collapsed": true
   },
   "outputs": [],
   "source": [
    "%matplotlib inline"
   ]
  },
  {
   "cell_type": "code",
   "execution_count": 2,
   "metadata": {
    "collapsed": true
   },
   "outputs": [],
   "source": [
    "import random\n",
    "import time\n",
    "import copy\n",
    "\n",
    "import numpy as np\n",
    "import numpy.core.defchararray as npstr\n",
    "import matplotlib.pyplot as plt"
   ]
  },
  {
   "cell_type": "code",
   "execution_count": 3,
   "metadata": {
    "collapsed": false
   },
   "outputs": [],
   "source": [
    "def generateWord(length):\n",
    "    abc = 'abcdefghijklmnopqrstuvwxyz'\n",
    "    word = ''\n",
    "    for i in range(length):\n",
    "        word += random.choice(abc)\n",
    "    return word\n",
    "\n",
    "def generateLengths(count,mean, dist, showGraph = False):\n",
    "    s = np.random.normal(mean, dist, count)\n",
    "    s = np.round(s,0).astype(int)\n",
    "    lessThanOne = s < 1\n",
    "    s[lessThanOne] = 1\n",
    "    if showGraph:\n",
    "        count, bins, ignored = plt.hist(s, 30, normed=True)\n",
    "        plt.show()\n",
    "    return s\n",
    "\n",
    "def generateDictionary(count):\n",
    "    currentDict = []\n",
    "    wordLengths = generateLengths(count,5,1)\n",
    "    for length in wordLengths:\n",
    "        oldLen = len(currentDict)\n",
    "        while(len(currentDict) == oldLen):\n",
    "            word = generateWord(length)\n",
    "            if word not in currentDict:\n",
    "                currentDict.append(word)  \n",
    "    return currentDict\n",
    "\n",
    "def generateComments(count,dictionary,mean,dist,showGraph = False):\n",
    "    comments = []\n",
    "    lengths = generateLengths(count,mean,dist,showGraph) \n",
    "    for length in lengths:\n",
    "        comment = ''\n",
    "        for i in range(length):\n",
    "            comment += random.choice(dictionary) + ' '\n",
    "        comments.append(comment.rstrip())\n",
    "    return np.asarray(comments)"
   ]
  },
  {
   "cell_type": "code",
   "execution_count": 4,
   "metadata": {
    "collapsed": false
   },
   "outputs": [
    {
     "data": {
      "text/plain": [
       "'anv'"
      ]
     },
     "execution_count": 4,
     "metadata": {},
     "output_type": "execute_result"
    }
   ],
   "source": [
    "\n",
    "generateWord(3)"
   ]
  },
  {
   "cell_type": "code",
   "execution_count": 5,
   "metadata": {
    "collapsed": false
   },
   "outputs": [
    {
     "data": {
      "text/plain": [
       "array([5, 4, 5, 3, 6, 3, 5, 5, 4, 8])"
      ]
     },
     "execution_count": 5,
     "metadata": {},
     "output_type": "execute_result"
    }
   ],
   "source": [
    "random.seed(50)\n",
    "np.random.seed(12)\n",
    "generateLengths(10,5,1)"
   ]
  },
  {
   "cell_type": "code",
   "execution_count": 6,
   "metadata": {
    "collapsed": false
   },
   "outputs": [
    {
     "data": {
      "text/plain": [
       "['piluh',\n",
       " 'wpykc',\n",
       " 'rkhvr',\n",
       " 'celd',\n",
       " 'lkhgc',\n",
       " 'ktt',\n",
       " 'nucc',\n",
       " 'wtkz',\n",
       " 'wunah',\n",
       " 'kiznw',\n",
       " 'dgoiw',\n",
       " 'soeit',\n",
       " 'grsdnv',\n",
       " 'twduz',\n",
       " 'rpnq',\n",
       " 'rvepsq',\n",
       " 'jclyq',\n",
       " 'ealasvn',\n",
       " 'pzurzh',\n",
       " 'fxsde']"
      ]
     },
     "execution_count": 6,
     "metadata": {},
     "output_type": "execute_result"
    }
   ],
   "source": [
    "random.seed(50)\n",
    "np.random.seed(15)\n",
    "d = generateDictionary(20)\n",
    "d"
   ]
  },
  {
   "cell_type": "code",
   "execution_count": 30,
   "metadata": {
    "collapsed": false
   },
   "outputs": [
    {
     "data": {
      "image/png": "[encoded data removed]",
      "text/plain": [
       "<matplotlib.figure.Figure at 0x10f335d30>"
      ]
     },
     "metadata": {},
     "output_type": "display_data"
    },
    {
     "data": {
      "text/plain": [
       "array(['wtkz rvepsq dgoiw', 'rkhvr ealasvn dgoiw', 'wtkz ealasvn',\n",
       "       'rkhvr lkhgc soeit'], \n",
       "      dtype='<U47')"
      ]
     },
     "execution_count": 30,
     "metadata": {},
     "output_type": "execute_result"
    }
   ],
   "source": [
    "random.seed(50)\n",
    "np.random.seed(15)\n",
    "comments = generateComments(1000000,d,3,1,True)\n",
    "comments[1:5]"
   ]
  },
  {
   "cell_type": "markdown",
   "metadata": {},
   "source": [
    "# Finding word pairs using string comparision"
   ]
  },
  {
   "cell_type": "code",
   "execution_count": 36,
   "metadata": {
    "collapsed": false
   },
   "outputs": [],
   "source": [
    "def findCommentsWithWords(comments,words):\n",
    "    currentVocab = copy.deepcopy(comments)\n",
    "    for w in words:\n",
    "        currentVocab = currentVocab[(npstr.find(currentVocab, w) != -1)]\n",
    "    return currentVocab\n",
    "\n",
    "def numberOfMatches(comments, words):\n",
    "    result = findCommentsWithWords(comments,words )\n",
    "    #print(result)\n",
    "    return len(result)\n",
    "    "
   ]
  },
  {
   "cell_type": "code",
   "execution_count": 44,
   "metadata": {
    "collapsed": false
   },
   "outputs": [
    {
     "name": "stdout",
     "output_type": "stream",
     "text": [
      "141150\n",
      "1.0348551273345947 seconds\n"
     ]
    }
   ],
   "source": [
    "start = time.time()\n",
    "print(numberOfMatches(comments, ['ealasvn']))\n",
    "end = time.time()\n",
    "print(str(end - start)+' seconds')"
   ]
  },
  {
   "cell_type": "markdown",
   "metadata": {},
   "source": [
    "# Finding word paris using prime factorisation"
   ]
  },
  {
   "cell_type": "markdown",
   "metadata": {},
   "source": [
    "### Step 1. Preprocessing\n",
    "To begin we need to assign each unque word in your dictionary with a unique prime number"
   ]
  },
  {
   "cell_type": "code",
   "execution_count": null,
   "metadata": {
    "collapsed": true
   },
   "outputs": [],
   "source": []
  }
 ],
 "metadata": {
  "kernelspec": {
   "display_name": "Python 3",
   "language": "python",
   "name": "python3"
  },
  "language_info": {
   "codemirror_mode": {
    "name": "ipython",
    "version": 3
   },
   "file_extension": ".py",
   "mimetype": "text/x-python",
   "name": "python",
   "nbconvert_exporter": "python",
   "pygments_lexer": "ipython3",
   "version": "3.5.2"
  }
 },
 "nbformat": 4,
 "nbformat_minor": 0
}
