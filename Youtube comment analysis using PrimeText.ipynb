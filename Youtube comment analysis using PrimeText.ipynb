{
 "cells": [
  {
   "cell_type": "markdown",
   "metadata": {},
   "source": [
    "# Youtube comment analysis using PrimeText"
   ]
  },
  {
   "cell_type": "code",
   "execution_count": 1,
   "metadata": {
    "collapsed": false
   },
   "outputs": [
    {
     "name": "stdout",
     "output_type": "stream",
     "text": [
      "Using matplotlib backend: MacOSX\n"
     ]
    }
   ],
   "source": [
    "%matplotlib "
   ]
  },
  {
   "cell_type": "code",
   "execution_count": 2,
   "metadata": {
    "collapsed": false
   },
   "outputs": [],
   "source": [
    "import sys\n",
    "import pandas as pa\n",
    "import numpy as np\n",
    "from PrimeText import PrimeText\n",
    "import matplotlib.pyplot as plt"
   ]
  },
  {
   "cell_type": "code",
   "execution_count": 3,
   "metadata": {
    "collapsed": true
   },
   "outputs": [],
   "source": [
    "pt = PrimeText()\n",
    "ytData = pa.read_csv(\"utubeES.csv\",encoding ='ISO-8859-1')\n",
    "comments = ytData['comment']"
   ]
  },
  {
   "cell_type": "code",
   "execution_count": 9,
   "metadata": {
    "collapsed": false
   },
   "outputs": [
    {
     "name": "stdout",
     "output_type": "stream",
     "text": [
      "Records cleaned : 4513 / 4513\n",
      "Records checked : 3924\n",
      "Indexed dictionary\n",
      "Indexed comments\n"
     ]
    }
   ],
   "source": [
    "pt.cleanData(comments)\n",
    "pt.assembleDictionary()\n",
    "pt.indexDictionary()\n",
    "pt.indexComments()"
   ]
  },
  {
   "cell_type": "code",
   "execution_count": 12,
   "metadata": {
    "collapsed": false
   },
   "outputs": [
    {
     "data": {
      "text/plain": [
       "<matplotlib.axes._subplots.AxesSubplot at 0x117d03ba8>"
      ]
     },
     "execution_count": 12,
     "metadata": {},
     "output_type": "execute_result"
    }
   ],
   "source": [
    "keyText = []\n",
    "keyCount = []\n",
    "for key, value in pt.indexedDictionary.items():\n",
    "    c = pt.countInRecords([key])\n",
    "    keyText.append(key)\n",
    "    keyCount.append(c)\n",
    "    \n",
    "s1 = pa.Series(keyCount,index=keyText)\n",
    "\n",
    "sortedS1  = s1.sort_values(ascending= False)[:50]\n",
    "\n",
    "sortedS1.plot.bar()"
   ]
  },
  {
   "cell_type": "code",
   "execution_count": 6,
   "metadata": {
    "collapsed": false
   },
   "outputs": [],
   "source": [
    "df = pa.DataFrame(index=sortedS1.index, columns=sortedS1.index)\n",
    "df = df.fillna(0)"
   ]
  },
  {
   "cell_type": "code",
   "execution_count": 7,
   "metadata": {
    "collapsed": false
   },
   "outputs": [
    {
     "name": "stdout",
     "output_type": "stream",
     "text": [
      "Cols done : 50\n"
     ]
    }
   ],
   "source": [
    "names = sortedS1.index\n",
    "colsdone = 0\n",
    "for col in names:\n",
    "    colsdone += 1\n",
    "    sys.stdout.write(\"\\rCols done : %i\" % colsdone)\n",
    "    for row in names:\n",
    "        df[col][row] = pt.countInRecords([col,row])\n",
    "sys.stdout.write(\"\\n\")\n",
    "sys.stdout.flush()"
   ]
  },
  {
   "cell_type": "code",
   "execution_count": 11,
   "metadata": {
    "collapsed": false
   },
   "outputs": [],
   "source": [
    "imgplot = plt.imshow(df,interpolation=\"nearest\")\n",
    "plt.xticks( range(len(names)), names, rotation=90 )\n",
    "plt.yticks( range(len(names)), names, rotation=0 )\n",
    "plt.colorbar()\n",
    "plt.show()"
   ]
  },
  {
   "cell_type": "code",
   "execution_count": null,
   "metadata": {
    "collapsed": true
   },
   "outputs": [],
   "source": []
  },
  {
   "cell_type": "code",
   "execution_count": null,
   "metadata": {
    "collapsed": true
   },
   "outputs": [],
   "source": []
  }
 ],
 "metadata": {
  "kernelspec": {
   "display_name": "Python 3",
   "language": "python",
   "name": "python3"
  },
  "language_info": {
   "codemirror_mode": {
    "name": "ipython",
    "version": 3
   },
   "file_extension": ".py",
   "mimetype": "text/x-python",
   "name": "python",
   "nbconvert_exporter": "python",
   "pygments_lexer": "ipython3",
   "version": "3.5.2"
  }
 },
 "nbformat": 4,
 "nbformat_minor": 0
}
